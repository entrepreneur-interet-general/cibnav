{
 "cells": [
  {
   "cell_type": "code",
   "execution_count": 2,
   "id": "88e18b70-e3fe-4259-b250-804106d5781b",
   "metadata": {},
   "outputs": [
    {
     "data": {
      "text/html": [
       "<pre style=\"white-space:pre;overflow-x:auto;line-height:normal;font-family:Menlo,'DejaVu Sans Mono',consolas,'Courier New',monospace\"><span style=\"color: #808000; text-decoration-color: #808000; font-weight: bold\">/home/quentin/anaconda3/lib/python3.9/site-packages/airflow/models/base.py:</span><span style=\"color: #808000; text-decoration-color: #808000; font-weight: bold\">49</span><span style=\"color: #808000; text-decoration-color: #808000; font-weight: bold\"> MovedIn20Warning</span><span style=\"color: #808000; text-decoration-color: #808000\">: Deprecated API features detected! These </span><span style=\"color: #808000; text-decoration-color: #808000; font-weight: bold\">feature(</span><span style=\"color: #808000; text-decoration-color: #808000\">s</span><span style=\"color: #808000; text-decoration-color: #808000; font-weight: bold\">)</span><span style=\"color: #808000; text-decoration-color: #808000\"> are not compatible with SQLAlchemy </span><span style=\"color: #808000; text-decoration-color: #808000; font-weight: bold\">2.0</span><span style=\"color: #808000; text-decoration-color: #808000\">. To prevent incompatible upgrades prior to updating applications, ensure requirements files are pinned to </span><span style=\"color: #808000; text-decoration-color: #808000\">\"sqlalchemy&lt;2.0\"</span><span style=\"color: #808000; text-decoration-color: #808000\">. Set environment variable </span><span style=\"color: #808000; text-decoration-color: #808000\">SQLALCHEMY_WARN_20</span><span style=\"color: #808000; text-decoration-color: #808000\">=</span><span style=\"color: #808000; text-decoration-color: #808000; font-weight: bold\">1</span><span style=\"color: #808000; text-decoration-color: #808000\"> to show all deprecation warnings.  Set environment variable </span><span style=\"color: #808000; text-decoration-color: #808000\">SQLALCHEMY_SILENCE_UBER_WARNING</span><span style=\"color: #808000; text-decoration-color: #808000\">=</span><span style=\"color: #808000; text-decoration-color: #808000; font-weight: bold\">1</span><span style=\"color: #808000; text-decoration-color: #808000\"> to silence this message. </span><span style=\"color: #808000; text-decoration-color: #808000; font-weight: bold\">(</span><span style=\"color: #808000; text-decoration-color: #808000\">Background on SQLAlchemy </span><span style=\"color: #808000; text-decoration-color: #808000; font-weight: bold\">2.0</span><span style=\"color: #808000; text-decoration-color: #808000\"> at: </span><span style=\"color: #808000; text-decoration-color: #808000; text-decoration: underline\">https://sqlalche.me/e/b8d9)</span>\n",
       "</pre>\n"
      ],
      "text/plain": [
       "\u001b[1;33m/home/quentin/anaconda3/lib/python3.9/site-packages/airflow/models/\u001b[0m\u001b[1;33mbase.py\u001b[0m\u001b[1;33m:\u001b[0m\u001b[1;33m49\u001b[0m\u001b[1;33m MovedIn20Warning\u001b[0m\u001b[33m: Deprecated API features detected! These \u001b[0m\u001b[1;33mfeature\u001b[0m\u001b[1;33m(\u001b[0m\u001b[33ms\u001b[0m\u001b[1;33m)\u001b[0m\u001b[33m are not compatible with SQLAlchemy \u001b[0m\u001b[1;33m2.0\u001b[0m\u001b[33m. To prevent incompatible upgrades prior to updating applications, ensure requirements files are pinned to \u001b[0m\u001b[33m\"sqlalchemy<2.0\"\u001b[0m\u001b[33m. Set environment variable \u001b[0m\u001b[33mSQLALCHEMY_WARN_20\u001b[0m\u001b[33m=\u001b[0m\u001b[1;33m1\u001b[0m\u001b[33m to show all deprecation warnings.  Set environment variable \u001b[0m\u001b[33mSQLALCHEMY_SILENCE_UBER_WARNING\u001b[0m\u001b[33m=\u001b[0m\u001b[1;33m1\u001b[0m\u001b[33m to silence this message. \u001b[0m\u001b[1;33m(\u001b[0m\u001b[33mBackground on SQLAlchemy \u001b[0m\u001b[1;33m2.0\u001b[0m\u001b[33m at: \u001b[0m\u001b[4;33mhttps://sqlalche.me/e/b8d9\u001b[0m\u001b[4;33m)\u001b[0m\n"
      ]
     },
     "metadata": {},
     "output_type": "display_data"
    },
    {
     "data": {
      "text/html": [
       "<pre style=\"white-space:pre;overflow-x:auto;line-height:normal;font-family:Menlo,'DejaVu Sans Mono',consolas,'Courier New',monospace\"><span style=\"color: #808000; text-decoration-color: #808000; font-weight: bold\">/tmp/ipykernel_642475/2156468092.py:</span><span style=\"color: #808000; text-decoration-color: #808000; font-weight: bold\">6</span><span style=\"color: #808000; text-decoration-color: #808000; font-weight: bold\"> DeprecationWarning</span><span style=\"color: #808000; text-decoration-color: #808000\">: The `airflow.operators.dummy_operator.DummyOperator` class is deprecated. Please use `</span><span style=\"color: #808000; text-decoration-color: #808000\">'airflow.operators.empty.EmptyOperator'</span><span style=\"color: #808000; text-decoration-color: #808000\">`.</span>\n",
       "</pre>\n"
      ],
      "text/plain": [
       "\u001b[1;33m/tmp/ipykernel_642475/\u001b[0m\u001b[1;33m2156468092.py\u001b[0m\u001b[1;33m:\u001b[0m\u001b[1;33m6\u001b[0m\u001b[1;33m DeprecationWarning\u001b[0m\u001b[33m: The `airflow.operators.dummy_operator.DummyOperator` class is deprecated. Please use `\u001b[0m\u001b[33m'airflow.operators.empty.EmptyOperator'\u001b[0m\u001b[33m`.\u001b[0m\n"
      ]
     },
     "metadata": {},
     "output_type": "display_data"
    },
    {
     "data": {
      "text/html": [
       "<pre style=\"white-space:pre;overflow-x:auto;line-height:normal;font-family:Menlo,'DejaVu Sans Mono',consolas,'Courier New',monospace\"><span style=\"color: #808000; text-decoration-color: #808000; font-weight: bold\">/tmp/ipykernel_642475/2156468092.py:</span><span style=\"color: #808000; text-decoration-color: #808000; font-weight: bold\">7</span><span style=\"color: #808000; text-decoration-color: #808000; font-weight: bold\"> DeprecationWarning</span><span style=\"color: #808000; text-decoration-color: #808000\">: The `airflow.operators.python_operator.PythonOperator` class is deprecated. Please use `</span><span style=\"color: #808000; text-decoration-color: #808000\">'airflow.operators.python.PythonOperator'</span><span style=\"color: #808000; text-decoration-color: #808000\">`.</span>\n",
       "</pre>\n"
      ],
      "text/plain": [
       "\u001b[1;33m/tmp/ipykernel_642475/\u001b[0m\u001b[1;33m2156468092.py\u001b[0m\u001b[1;33m:\u001b[0m\u001b[1;33m7\u001b[0m\u001b[1;33m DeprecationWarning\u001b[0m\u001b[33m: The `airflow.operators.python_operator.PythonOperator` class is deprecated. Please use `\u001b[0m\u001b[33m'airflow.operators.python.PythonOperator'\u001b[0m\u001b[33m`.\u001b[0m\n"
      ]
     },
     "metadata": {},
     "output_type": "display_data"
    }
   ],
   "source": [
    "import csv\n",
    "import os\n",
    "import pandas as pd\n",
    "import requests\n",
    "from airflow.models import Variable\n",
    "from airflow.operators.dummy_operator import DummyOperator\n",
    "from airflow.operators.python_operator import PythonOperator\n",
    "from datetime import datetime, timedelta\n",
    "from io import StringIO\n",
    "\n",
    "\n",
    "from airflow import DAG\n",
    "from helpers import default_args, embulk_run, read_sql_query, connection_db, \\\n",
    "    numero_immatriculation\n"
   ]
  },
  {
   "cell_type": "code",
   "execution_count": 3,
   "id": "942d4dbd-b7ee-4adf-be6b-f888fbe4245e",
   "metadata": {},
   "outputs": [],
   "source": [
    "def telechargement_secmar(url):\n",
    "    headers = {\n",
    "        'User-Agent': 'Mozilla/5.0 (Windows NT 6.1) AppleWebKit/537.36 (KHTML, like Gecko) Chrome/41.0.2228.0 Safari/537.3'}\n",
    "    req = requests.get(url, headers=headers, stream=True)\n",
    "    data = StringIO(req.text)\n",
    "    return pd.read_csv(data)"
   ]
  },
  {
   "cell_type": "code",
   "execution_count": null,
   "id": "cce0a9dd-43ca-4428-bd98-ecffbfc03f07",
   "metadata": {},
   "outputs": [],
   "source": [
    "def sitrep_transform(df, engine):\n",
    "    df['numero_immatriculation'] = df['numero_immatriculation'].astype(str)\n",
    "    df = df[df['numero_immatriculation'] != 'nan']\n",
    "    df = df[df.type_operation.isin(['SAR', 'MAS'])]\n",
    "    df = df[df.evenement.isin(filtre_sitrep())]\n",
    "    df = df[df.resultat_flotteur != 'Non assisté, cas de fausse alerte']\n",
    "    time_format = \"%Y-%m-%dT%H:%M:%SZ\"\n",
    "\n",
    "    df['date'] = df['date_heure_reception_alerte'].apply(\n",
    "        lambda date: datetime.strptime(date.split('+')[0], time_format).date())\n",
    "    df = df[['date', 'numero_immatriculation', 'operation_id']]\n",
    "    df = df.drop_duplicates()\n",
    "\n",
    "    ## Annualisation\n",
    "    df = annualisation_sitrep(df)\n",
    "    #return df\n",
    "    return recuperation_immat(df, engine)"
   ]
  },
  {
   "cell_type": "code",
   "execution_count": null,
   "id": "81e6e65c-6e9a-4f6a-b823-14aac98f1f44",
   "metadata": {},
   "outputs": [],
   "source": [
    "def recuperation_immat(df, engine):\n",
    "    navire = pd.read_sql(\n",
    "        'select id_nav_flotteur, num_immat_francais from navire', engine)\n",
    "    navire['numero_immatriculation'] = navire['num_immat_francais'].apply(\n",
    "        lambda x: numero_immatriculation(x, HASH_SECRET))\n",
    "    df = pd.merge(navire, df, how='inner', on='numero_immatriculation')\n",
    "    print(df)\n",
    "    return df[['annee', 'id_nav_flotteur',\n",
    "               'sitrep']]  # Modification pour obtention date evenement mer\n"
   ]
  },
  {
   "cell_type": "code",
   "execution_count": 13,
   "id": "dccbeb1b-268f-4ba3-a1e6-4d5cedc48475",
   "metadata": {},
   "outputs": [
    {
     "data": {
      "text/html": [
       "<pre style=\"white-space:pre;overflow-x:auto;line-height:normal;font-family:Menlo,'DejaVu Sans Mono',consolas,'Courier New',monospace\"><span style=\"color: #808000; text-decoration-color: #808000; font-weight: bold\">/tmp/ipykernel_642475/2845657508.py:</span><span style=\"color: #808000; text-decoration-color: #808000; font-weight: bold\">6</span><span style=\"color: #808000; text-decoration-color: #808000; font-weight: bold\"> DtypeWarning</span><span style=\"color: #808000; text-decoration-color: #808000\">: Columns </span><span style=\"color: #808000; text-decoration-color: #808000; font-weight: bold\">(</span><span style=\"color: #808000; text-decoration-color: #808000; font-weight: bold\">1</span><span style=\"color: #808000; text-decoration-color: #808000\">,</span><span style=\"color: #808000; text-decoration-color: #808000; font-weight: bold\">2</span><span style=\"color: #808000; text-decoration-color: #808000\">,</span><span style=\"color: #808000; text-decoration-color: #808000; font-weight: bold\">12</span><span style=\"color: #808000; text-decoration-color: #808000; font-weight: bold\">)</span><span style=\"color: #808000; text-decoration-color: #808000\"> have mixed types. Specify dtype option on import or set </span><span style=\"color: #808000; text-decoration-color: #808000\">low_memory</span><span style=\"color: #808000; text-decoration-color: #808000\">=</span><span style=\"color: #808000; text-decoration-color: #808000; font-style: italic\">False</span><span style=\"color: #808000; text-decoration-color: #808000\">.</span>\n",
       "</pre>\n"
      ],
      "text/plain": [
       "\u001b[1;33m/tmp/ipykernel_642475/\u001b[0m\u001b[1;33m2845657508.py\u001b[0m\u001b[1;33m:\u001b[0m\u001b[1;33m6\u001b[0m\u001b[1;33m DtypeWarning\u001b[0m\u001b[33m: Columns \u001b[0m\u001b[1;33m(\u001b[0m\u001b[1;33m1\u001b[0m\u001b[33m,\u001b[0m\u001b[1;33m2\u001b[0m\u001b[33m,\u001b[0m\u001b[1;33m12\u001b[0m\u001b[1;33m)\u001b[0m\u001b[33m have mixed types. Specify dtype option on import or set \u001b[0m\u001b[33mlow_memory\u001b[0m\u001b[33m=\u001b[0m\u001b[3;33mFalse\u001b[0m\u001b[33m.\u001b[0m\n"
      ]
     },
     "metadata": {},
     "output_type": "display_data"
    }
   ],
   "source": [
    "operations = telechargement_secmar(\n",
    "    url='https://www.data.gouv.fr/fr/datasets/r/fae6bc13-fe4c-4838-b281-b16628b7babe')\n",
    "flotteurs = telechargement_secmar(\n",
    "    url='https://www.data.gouv.fr/fr/datasets/r/ae0e17e4-7117-45f0-80c4-b11b38f31c5c')\n",
    "df_sitreps = pd.merge(flotteurs, operations, how='inner',\n",
    "                      on='operation_id')"
   ]
  },
  {
   "cell_type": "code",
   "execution_count": 14,
   "id": "00fad3ee-ab28-4cd3-86f3-1945a3687c07",
   "metadata": {},
   "outputs": [
    {
     "data": {
      "text/html": [
       "<div>\n",
       "<style scoped>\n",
       "    .dataframe tbody tr th:only-of-type {\n",
       "        vertical-align: middle;\n",
       "    }\n",
       "\n",
       "    .dataframe tbody tr th {\n",
       "        vertical-align: top;\n",
       "    }\n",
       "\n",
       "    .dataframe thead th {\n",
       "        text-align: right;\n",
       "    }\n",
       "</style>\n",
       "<table border=\"1\" class=\"dataframe\">\n",
       "  <thead>\n",
       "    <tr style=\"text-align: right;\">\n",
       "      <th></th>\n",
       "      <th>annee</th>\n",
       "      <th>numero_immatriculation</th>\n",
       "      <th>sitrep</th>\n",
       "      <th>operation_id</th>\n",
       "    </tr>\n",
       "  </thead>\n",
       "  <tbody>\n",
       "    <tr>\n",
       "      <th>0</th>\n",
       "      <td>2009</td>\n",
       "      <td>013046ba3ae9a7fa2b4e4a9bc75f61afe50b7452</td>\n",
       "      <td>1</td>\n",
       "      <td>1</td>\n",
       "    </tr>\n",
       "    <tr>\n",
       "      <th>1</th>\n",
       "      <td>2009</td>\n",
       "      <td>01eab75f2ca190e7201eb969adfd6e98f9483443</td>\n",
       "      <td>1</td>\n",
       "      <td>1</td>\n",
       "    </tr>\n",
       "    <tr>\n",
       "      <th>2</th>\n",
       "      <td>2009</td>\n",
       "      <td>04746ef042162b156de531fa8a0d0e64a696711e</td>\n",
       "      <td>1</td>\n",
       "      <td>1</td>\n",
       "    </tr>\n",
       "    <tr>\n",
       "      <th>3</th>\n",
       "      <td>2009</td>\n",
       "      <td>048981a085a0afe347a4b8f1118dc0fe561a1477</td>\n",
       "      <td>1</td>\n",
       "      <td>1</td>\n",
       "    </tr>\n",
       "    <tr>\n",
       "      <th>4</th>\n",
       "      <td>2009</td>\n",
       "      <td>04a6aaf17a5acd954c6be623c5050ecea07ce469</td>\n",
       "      <td>1</td>\n",
       "      <td>1</td>\n",
       "    </tr>\n",
       "    <tr>\n",
       "      <th>...</th>\n",
       "      <td>...</td>\n",
       "      <td>...</td>\n",
       "      <td>...</td>\n",
       "      <td>...</td>\n",
       "    </tr>\n",
       "    <tr>\n",
       "      <th>45499</th>\n",
       "      <td>2022</td>\n",
       "      <td>ff6f51dab901684d27a1c6093fa15b8b763950f0</td>\n",
       "      <td>1</td>\n",
       "      <td>1</td>\n",
       "    </tr>\n",
       "    <tr>\n",
       "      <th>45500</th>\n",
       "      <td>2022</td>\n",
       "      <td>ff956e259e3f29ee66833c6740186568a07d2948</td>\n",
       "      <td>1</td>\n",
       "      <td>1</td>\n",
       "    </tr>\n",
       "    <tr>\n",
       "      <th>45501</th>\n",
       "      <td>2023</td>\n",
       "      <td>4071ce2a4b97928e62db60d99c95ea17919a1a78</td>\n",
       "      <td>1</td>\n",
       "      <td>1</td>\n",
       "    </tr>\n",
       "    <tr>\n",
       "      <th>45502</th>\n",
       "      <td>2023</td>\n",
       "      <td>a1c8074aeb42480c4f4cfc44ec1b28555aba9683</td>\n",
       "      <td>1</td>\n",
       "      <td>1</td>\n",
       "    </tr>\n",
       "    <tr>\n",
       "      <th>45503</th>\n",
       "      <td>2023</td>\n",
       "      <td>aacbc1b78ada0c73366e888735f519a1bbb2dc77</td>\n",
       "      <td>1</td>\n",
       "      <td>1</td>\n",
       "    </tr>\n",
       "  </tbody>\n",
       "</table>\n",
       "<p>45504 rows × 4 columns</p>\n",
       "</div>"
      ],
      "text/plain": [
       "       annee                    numero_immatriculation  sitrep  operation_id\n",
       "0       2009  013046ba3ae9a7fa2b4e4a9bc75f61afe50b7452       1             1\n",
       "1       2009  01eab75f2ca190e7201eb969adfd6e98f9483443       1             1\n",
       "2       2009  04746ef042162b156de531fa8a0d0e64a696711e       1             1\n",
       "3       2009  048981a085a0afe347a4b8f1118dc0fe561a1477       1             1\n",
       "4       2009  04a6aaf17a5acd954c6be623c5050ecea07ce469       1             1\n",
       "...      ...                                       ...     ...           ...\n",
       "45499   2022  ff6f51dab901684d27a1c6093fa15b8b763950f0       1             1\n",
       "45500   2022  ff956e259e3f29ee66833c6740186568a07d2948       1             1\n",
       "45501   2023  4071ce2a4b97928e62db60d99c95ea17919a1a78       1             1\n",
       "45502   2023  a1c8074aeb42480c4f4cfc44ec1b28555aba9683       1             1\n",
       "45503   2023  aacbc1b78ada0c73366e888735f519a1bbb2dc77       1             1\n",
       "\n",
       "[45504 rows x 4 columns]"
      ]
     },
     "metadata": {},
     "output_type": "display_data"
    }
   ],
   "source": [
    "df = sitrep_transform(df_sitreps)"
   ]
  },
  {
   "cell_type": "code",
   "execution_count": 19,
   "id": "76e6e5b7-df6e-4f68-b0cd-335a27a26e7d",
   "metadata": {},
   "outputs": [
    {
     "data": {
      "text/html": [
       "<div>\n",
       "<style scoped>\n",
       "    .dataframe tbody tr th:only-of-type {\n",
       "        vertical-align: middle;\n",
       "    }\n",
       "\n",
       "    .dataframe tbody tr th {\n",
       "        vertical-align: top;\n",
       "    }\n",
       "\n",
       "    .dataframe thead th {\n",
       "        text-align: right;\n",
       "    }\n",
       "</style>\n",
       "<table border=\"1\" class=\"dataframe\">\n",
       "  <thead>\n",
       "    <tr style=\"text-align: right;\">\n",
       "      <th></th>\n",
       "      <th>annee</th>\n",
       "      <th>numero_immatriculation</th>\n",
       "      <th>sitrep</th>\n",
       "      <th>operation_id</th>\n",
       "    </tr>\n",
       "  </thead>\n",
       "  <tbody>\n",
       "    <tr>\n",
       "      <th>0</th>\n",
       "      <td>2009</td>\n",
       "      <td>013046ba3ae9a7fa2b4e4a9bc75f61afe50b7452</td>\n",
       "      <td>1</td>\n",
       "      <td>1</td>\n",
       "    </tr>\n",
       "    <tr>\n",
       "      <th>1</th>\n",
       "      <td>2009</td>\n",
       "      <td>01eab75f2ca190e7201eb969adfd6e98f9483443</td>\n",
       "      <td>1</td>\n",
       "      <td>1</td>\n",
       "    </tr>\n",
       "    <tr>\n",
       "      <th>2</th>\n",
       "      <td>2009</td>\n",
       "      <td>04746ef042162b156de531fa8a0d0e64a696711e</td>\n",
       "      <td>1</td>\n",
       "      <td>1</td>\n",
       "    </tr>\n",
       "    <tr>\n",
       "      <th>3</th>\n",
       "      <td>2009</td>\n",
       "      <td>048981a085a0afe347a4b8f1118dc0fe561a1477</td>\n",
       "      <td>1</td>\n",
       "      <td>1</td>\n",
       "    </tr>\n",
       "    <tr>\n",
       "      <th>4</th>\n",
       "      <td>2009</td>\n",
       "      <td>04a6aaf17a5acd954c6be623c5050ecea07ce469</td>\n",
       "      <td>1</td>\n",
       "      <td>1</td>\n",
       "    </tr>\n",
       "    <tr>\n",
       "      <th>...</th>\n",
       "      <td>...</td>\n",
       "      <td>...</td>\n",
       "      <td>...</td>\n",
       "      <td>...</td>\n",
       "    </tr>\n",
       "    <tr>\n",
       "      <th>45499</th>\n",
       "      <td>2022</td>\n",
       "      <td>ff6f51dab901684d27a1c6093fa15b8b763950f0</td>\n",
       "      <td>1</td>\n",
       "      <td>1</td>\n",
       "    </tr>\n",
       "    <tr>\n",
       "      <th>45500</th>\n",
       "      <td>2022</td>\n",
       "      <td>ff956e259e3f29ee66833c6740186568a07d2948</td>\n",
       "      <td>1</td>\n",
       "      <td>1</td>\n",
       "    </tr>\n",
       "    <tr>\n",
       "      <th>45501</th>\n",
       "      <td>2023</td>\n",
       "      <td>4071ce2a4b97928e62db60d99c95ea17919a1a78</td>\n",
       "      <td>1</td>\n",
       "      <td>1</td>\n",
       "    </tr>\n",
       "    <tr>\n",
       "      <th>45502</th>\n",
       "      <td>2023</td>\n",
       "      <td>a1c8074aeb42480c4f4cfc44ec1b28555aba9683</td>\n",
       "      <td>1</td>\n",
       "      <td>1</td>\n",
       "    </tr>\n",
       "    <tr>\n",
       "      <th>45503</th>\n",
       "      <td>2023</td>\n",
       "      <td>aacbc1b78ada0c73366e888735f519a1bbb2dc77</td>\n",
       "      <td>1</td>\n",
       "      <td>1</td>\n",
       "    </tr>\n",
       "  </tbody>\n",
       "</table>\n",
       "<p>45504 rows × 4 columns</p>\n",
       "</div>"
      ],
      "text/plain": [
       "       annee                    numero_immatriculation  sitrep  operation_id\n",
       "0       2009  013046ba3ae9a7fa2b4e4a9bc75f61afe50b7452       1             1\n",
       "1       2009  01eab75f2ca190e7201eb969adfd6e98f9483443       1             1\n",
       "2       2009  04746ef042162b156de531fa8a0d0e64a696711e       1             1\n",
       "3       2009  048981a085a0afe347a4b8f1118dc0fe561a1477       1             1\n",
       "4       2009  04a6aaf17a5acd954c6be623c5050ecea07ce469       1             1\n",
       "...      ...                                       ...     ...           ...\n",
       "45499   2022  ff6f51dab901684d27a1c6093fa15b8b763950f0       1             1\n",
       "45500   2022  ff956e259e3f29ee66833c6740186568a07d2948       1             1\n",
       "45501   2023  4071ce2a4b97928e62db60d99c95ea17919a1a78       1             1\n",
       "45502   2023  a1c8074aeb42480c4f4cfc44ec1b28555aba9683       1             1\n",
       "45503   2023  aacbc1b78ada0c73366e888735f519a1bbb2dc77       1             1\n",
       "\n",
       "[45504 rows x 4 columns]"
      ]
     },
     "execution_count": 19,
     "metadata": {},
     "output_type": "execute_result"
    }
   ],
   "source": [
    "df"
   ]
  }
 ],
 "metadata": {
  "kernelspec": {
   "display_name": "Python 3 (ipykernel)",
   "language": "python",
   "name": "python3"
  },
  "language_info": {
   "codemirror_mode": {
    "name": "ipython",
    "version": 3
   },
   "file_extension": ".py",
   "mimetype": "text/x-python",
   "name": "python",
   "nbconvert_exporter": "python",
   "pygments_lexer": "ipython3",
   "version": "3.9.12"
  }
 },
 "nbformat": 4,
 "nbformat_minor": 5
}
