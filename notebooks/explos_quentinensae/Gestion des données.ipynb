{
 "cells": [
  {
   "cell_type": "markdown",
   "metadata": {},
   "source": [
    "# CibNav : gestion des données"
   ]
  },
  {
   "cell_type": "markdown",
   "metadata": {},
   "source": [
    "## Packages et importation des fichiers"
   ]
  },
  {
   "cell_type": "code",
   "execution_count": 2,
   "metadata": {},
   "outputs": [],
   "source": [
    "import numpy as np\n",
    "import pandas as pd"
   ]
  },
  {
   "cell_type": "code",
   "execution_count": 3,
   "metadata": {},
   "outputs": [],
   "source": [
    "folder=\"C:\\\\Users\\\\quentin.mascart\\\\Documents\\\\Stage DAM\\\\CibNav\\\\\""
   ]
  },
  {
   "cell_type": "code",
   "execution_count": 4,
   "metadata": {},
   "outputs": [],
   "source": [
    "Navire=pd.read_csv(folder+\"Données\\\\Navire.csv\")\n",
    "Historique=pd.read_csv(folder+\"Données\\\\Dataset_train.csv\")"
   ]
  },
  {
   "cell_type": "markdown",
   "metadata": {},
   "source": [
    "## Gestions des données"
   ]
  },
  {
   "cell_type": "markdown",
   "metadata": {},
   "source": [
    "On selectionnes les colonnes utiles à notre apprentissage."
   ]
  },
  {
   "cell_type": "code",
   "execution_count": 5,
   "metadata": {},
   "outputs": [],
   "source": [
    "Navire=Navire[['ID Nav Flotteur','Date Francisation', 'Annee Construction', 'Genre Navigation', 'Jauge Oslo', 'Longueur Hors Tout', 'Materiau Coque', 'Nombre Moteur', 'Num Version', 'Puissance Administrative', 'Situation Flotteur', 'Type Carburant', 'Type Moteur']]"
   ]
  },
  {
   "cell_type": "code",
   "execution_count": 6,
   "metadata": {},
   "outputs": [],
   "source": [
    "Historique=Historique[['ID Nav Flotteur','Date Visite','Annee Visite','Sitrep History','Nombre Prescriptions','Nombre Prescriptions Majeurs','Sitrep History']]"
   ]
  },
  {
   "cell_type": "code",
   "execution_count": 7,
   "metadata": {},
   "outputs": [],
   "source": [
    "df=pd.merge(Historique,Navire,on='ID Nav Flotteur')"
   ]
  },
  {
   "cell_type": "markdown",
   "metadata": {},
   "source": [
    "On ajoute les colones suivantes :\n",
    "- age_francisation à la visite\n",
    "- age à la visite"
   ]
  },
  {
   "cell_type": "code",
   "execution_count": 8,
   "metadata": {},
   "outputs": [],
   "source": [
    "df['Annee_Francisation']=df['Date Francisation'].str.slice(0, 4)\n",
    "df['Annee_Francisation']=pd.to_numeric(df['Annee_Francisation'])\n",
    "df['age_francisation']=df['Annee Visite']-df['Annee_Francisation']\n",
    "df['age']=df['Annee Visite']-df['Annee Construction']"
   ]
  },
  {
   "cell_type": "markdown",
   "metadata": {},
   "source": [
    "Ici on supprime les lignes ayant au moins une information manquante. \n",
    "Voir comment faire pour gérer les colones manquantes dans les modèles."
   ]
  },
  {
   "cell_type": "code",
   "execution_count": 9,
   "metadata": {},
   "outputs": [
    {
     "name": "stdout",
     "output_type": "stream",
     "text": [
      "<class 'pandas.core.frame.DataFrame'>\n",
      "Int64Index: 19968 entries, 0 to 27718\n",
      "Data columns (total 22 columns):\n",
      " #   Column                        Non-Null Count  Dtype  \n",
      "---  ------                        --------------  -----  \n",
      " 0   ID Nav Flotteur               19968 non-null  float64\n",
      " 1   Date Visite                   19968 non-null  object \n",
      " 2   Annee Visite                  19968 non-null  int64  \n",
      " 3   Sitrep History                19968 non-null  int64  \n",
      " 4   Nombre Prescriptions          19968 non-null  float64\n",
      " 5   Nombre Prescriptions Majeurs  19968 non-null  float64\n",
      " 6   Sitrep History                19968 non-null  int64  \n",
      " 7   Date Francisation             19968 non-null  object \n",
      " 8   Annee Construction            19968 non-null  float64\n",
      " 9   Genre Navigation              19968 non-null  object \n",
      " 10  Jauge Oslo                    19968 non-null  float64\n",
      " 11  Longueur Hors Tout            19968 non-null  float64\n",
      " 12  Materiau Coque                19968 non-null  object \n",
      " 13  Nombre Moteur                 19968 non-null  float64\n",
      " 14  Num Version                   19968 non-null  float64\n",
      " 15  Puissance Administrative      19968 non-null  float64\n",
      " 16  Situation Flotteur            19968 non-null  object \n",
      " 17  Type Carburant                19968 non-null  object \n",
      " 18  Type Moteur                   19968 non-null  object \n",
      " 19  Annee_Francisation            19968 non-null  float64\n",
      " 20  age_francisation              19968 non-null  float64\n",
      " 21  age                           19968 non-null  float64\n",
      "dtypes: float64(12), int64(3), object(7)\n",
      "memory usage: 3.5+ MB\n"
     ]
    }
   ],
   "source": [
    "df=df.dropna()\n",
    "df.info()"
   ]
  },
  {
   "cell_type": "markdown",
   "metadata": {},
   "source": [
    "## Pretraitement des données"
   ]
  },
  {
   "cell_type": "markdown",
   "metadata": {},
   "source": [
    "Recodage des variables catégorielle. Une colonne par catégorie"
   ]
  },
  {
   "cell_type": "code",
   "execution_count": 17,
   "metadata": {},
   "outputs": [],
   "source": [
    "categories = ['Genre Navigation', 'Materiau Coque', 'Situation Flotteur', 'Type Carburant', 'Type Moteur']\n",
    "numerique = ['ID Nav Flotteur','Date Visite', 'Jauge Oslo', 'Longueur Hors Tout', 'Nombre Moteur', 'Num Version', 'Puissance Administrative','Nombre Prescriptions','Nombre Prescriptions Majeurs','Sitrep History','age','age_francisation']\n",
    "cat=df[categories]\n",
    "num=df[numerique]"
   ]
  },
  {
   "cell_type": "code",
   "execution_count": 31,
   "metadata": {},
   "outputs": [],
   "source": [
    "Data=pd.read_csv(folder+\"Données\\\\dataframe.csv\")\n",
    "\n",
    "#Création de la cible au moins une prescription majeure\n",
    "\n",
    "Data['Cible'] = Data['Nombre Prescriptions Majeurs'].apply(lambda x: '1' if x > 0 else '0').astype(int)\n",
    "#Création de la cible au moins une préscription majeure ou au moins 4 mineurs\n",
    "Data['Cible_deux'] = Data['Cible'] + Data['Nombre Prescriptions'].apply(lambda x: '1' if x > 3 else '0').astype(int)\n",
    "Data['Cible_deux'] = Data['Cible_deux'].apply(lambda x: '1' if x > 0 else '0').astype(int)\n",
    "\n",
    "del Data['Unnamed: 0']"
   ]
  },
  {
   "cell_type": "code",
   "execution_count": 32,
   "metadata": {},
   "outputs": [],
   "source": [
    "test_size=0.33\n",
    "df=Data.copy()\n",
    "df=df.sort_values(by='Date Visite')\n",
    "del df[\"Date Visite\"]\n",
    "int(len(Data)*test_size)\n",
    "X_train=df.head(int(len(Data)*(1-test_size))).sample(frac=1)\n",
    "X_test=df.tail(int(len(Data)*(test_size))).sample(frac=1)\n",
    "\n",
    "Y_train=X_train['Cible_deux']\n",
    "Y_test=X_test['Cible_deux']\n",
    "\n",
    "del X_train['Cible']\n",
    "del X_test['Cible']\n",
    "del X_train['Cible_deux']\n",
    "del X_test['Cible_deux']"
   ]
  },
  {
   "cell_type": "code",
   "execution_count": 35,
   "metadata": {},
   "outputs": [
    {
     "data": {
      "text/plain": [
       "array([[0., 0., 0., ..., 0., 1., 0.],\n",
       "       [0., 0., 0., ..., 0., 1., 0.],\n",
       "       [0., 0., 0., ..., 0., 1., 0.],\n",
       "       ...,\n",
       "       [0., 0., 0., ..., 0., 1., 0.],\n",
       "       [0., 0., 0., ..., 0., 1., 0.],\n",
       "       [0., 0., 0., ..., 0., 1., 0.]])"
      ]
     },
     "execution_count": 35,
     "metadata": {},
     "output_type": "execute_result"
    }
   ],
   "source": [
    "from sklearn.preprocessing import OneHotEncoder\n",
    "\n",
    "enc = OneHotEncoder(handle_unknown='ignore')\n",
    "enc.fit(X_train)\n",
    "\n",
    "enc.transform(X_train).toarray()"
   ]
  },
  {
   "cell_type": "code",
   "execution_count": 30,
   "metadata": {},
   "outputs": [
    {
     "data": {
      "text/plain": [
       "['Genre Navigation=C.M.PetitePêche',\n",
       " 'Genre Navigation=Cabotage Internat.',\n",
       " 'Genre Navigation=Cabotage National',\n",
       " 'Genre Navigation=Conchyl.PetitePêche',\n",
       " 'Genre Navigation=Conchyl.Pure',\n",
       " 'Genre Navigation=Lamanage',\n",
       " 'Genre Navigation=Lamanage Nav cot',\n",
       " 'Genre Navigation=Navigation côtière',\n",
       " 'Genre Navigation=Petite pêche',\n",
       " 'Genre Navigation=Pilotage',\n",
       " 'Genre Navigation=Plaisance Cabot. Nat',\n",
       " 'Genre Navigation=Plaisance Cabot.Int.',\n",
       " 'Genre Navigation=Plaisance Long Cours',\n",
       " 'Genre Navigation=Plaisance NC',\n",
       " 'Genre Navigation=Pêche au large',\n",
       " 'Genre Navigation=Pêche côtière',\n",
       " 'Genre Navigation=Remorquage CI',\n",
       " 'Genre Navigation=Remorquage CN',\n",
       " 'Genre Navigation=Remorquage Nav.Cot.',\n",
       " 'Materiau Coque=ACIER',\n",
       " 'Materiau Coque=ACIER / INOX',\n",
       " 'Materiau Coque=AG/4 - ALU',\n",
       " 'Materiau Coque=ALLIAGE LEGER',\n",
       " 'Materiau Coque=AUTRES',\n",
       " 'Materiau Coque=BOIS',\n",
       " 'Materiau Coque=BOIS MASSIF',\n",
       " 'Materiau Coque=BOIS MOULE',\n",
       " 'Materiau Coque=CONTREPLAQUE',\n",
       " 'Materiau Coque=METAL',\n",
       " 'Materiau Coque=PLASTIQUE',\n",
       " 'Materiau Coque=PLASTIQUE SANDWICH',\n",
       " 'Materiau Coque=PNEUMATIQUE',\n",
       " 'Materiau Coque=POLYESTER EPOXY',\n",
       " 'Materiau Coque=POLYETHYLENE',\n",
       " 'Situation Flotteur=Français Commerce',\n",
       " 'Situation Flotteur=Français pêche',\n",
       " 'Type Carburant=AUTRE',\n",
       " 'Type Carburant=ELECTRICITE',\n",
       " 'Type Carburant=ESSENCE',\n",
       " 'Type Carburant=GAZOLE',\n",
       " 'Type Moteur=Alternative à vapeur',\n",
       " 'Type Moteur=Combustion Interne',\n",
       " 'Type Moteur=Diesel électrique',\n",
       " 'Type Moteur=Explosion',\n",
       " 'Type Moteur=Propulseur électrique',\n",
       " 'Type Moteur=Turbine à vapeur']"
      ]
     },
     "execution_count": 30,
     "metadata": {},
     "output_type": "execute_result"
    }
   ],
   "source": [
    "from sklearn.feature_extraction import DictVectorizer\n",
    "prep = DictVectorizer()\n",
    "cat_as_dicts = [dict(r.iteritems()) for _, r in cat.iterrows()]\n",
    "temp = prep.fit_transform(cat_as_dicts)\n",
    "cat_exp = temp.toarray()\n",
    "prep.feature_names_"
   ]
  },
  {
   "cell_type": "code",
   "execution_count": 13,
   "metadata": {
    "scrolled": true
   },
   "outputs": [
    {
     "data": {
      "text/plain": [
       "(23926, 54)"
      ]
     },
     "execution_count": 13,
     "metadata": {},
     "output_type": "execute_result"
    }
   ],
   "source": [
    "cat_exp_df = pd.DataFrame( cat_exp, columns = prep.feature_names_ )\n",
    "reject = ['Situation Flotteur=Français Commerce','Genre Navigation=Remorquage Nav.Cot.','Materiau Coque=AUTRES', 'Type Carburant=AUTRE', 'Type Moteur=Alternative à vapeur']\n",
    "keep = [ c for c in cat_exp_df.columns if c not in reject ]\n",
    "cat_exp_df_nocor = cat_exp_df [ keep ]\n",
    "X = pd.concat ( [num, cat_exp_df_nocor ], axis= 1)\n",
    "X.shape"
   ]
  },
  {
   "cell_type": "code",
   "execution_count": 14,
   "metadata": {},
   "outputs": [],
   "source": [
    "X=X.dropna()"
   ]
  },
  {
   "cell_type": "code",
   "execution_count": 15,
   "metadata": {},
   "outputs": [
    {
     "data": {
      "text/plain": [
       "Index(['ID Nav Flotteur', 'Date Visite', 'Jauge Oslo', 'Longueur Hors Tout',\n",
       "       'Nombre Moteur', 'Num Version', 'Puissance Administrative',\n",
       "       'Nombre Prescriptions', 'Nombre Prescriptions Majeurs',\n",
       "       'Sitrep History', 'Sitrep History', 'age', 'age_francisation',\n",
       "       'Genre Navigation=C.M.PetitePêche',\n",
       "       'Genre Navigation=Cabotage Internat.',\n",
       "       'Genre Navigation=Cabotage National',\n",
       "       'Genre Navigation=Conchyl.PetitePêche', 'Genre Navigation=Conchyl.Pure',\n",
       "       'Genre Navigation=Lamanage', 'Genre Navigation=Lamanage Nav cot',\n",
       "       'Genre Navigation=Navigation côtière', 'Genre Navigation=Petite pêche',\n",
       "       'Genre Navigation=Pilotage', 'Genre Navigation=Plaisance Cabot. Nat',\n",
       "       'Genre Navigation=Plaisance Cabot.Int.',\n",
       "       'Genre Navigation=Plaisance Long Cours',\n",
       "       'Genre Navigation=Plaisance NC', 'Genre Navigation=Pêche au large',\n",
       "       'Genre Navigation=Pêche côtière', 'Genre Navigation=Remorquage CI',\n",
       "       'Genre Navigation=Remorquage CN', 'Materiau Coque=ACIER',\n",
       "       'Materiau Coque=ACIER / INOX', 'Materiau Coque=AG/4 - ALU',\n",
       "       'Materiau Coque=ALLIAGE LEGER', 'Materiau Coque=BOIS',\n",
       "       'Materiau Coque=BOIS MASSIF', 'Materiau Coque=BOIS MOULE',\n",
       "       'Materiau Coque=CONTREPLAQUE', 'Materiau Coque=METAL',\n",
       "       'Materiau Coque=PLASTIQUE', 'Materiau Coque=PLASTIQUE SANDWICH',\n",
       "       'Materiau Coque=PNEUMATIQUE', 'Materiau Coque=POLYESTER EPOXY',\n",
       "       'Materiau Coque=POLYETHYLENE', 'Situation Flotteur=Français pêche',\n",
       "       'Type Carburant=ELECTRICITE', 'Type Carburant=ESSENCE',\n",
       "       'Type Carburant=GAZOLE', 'Type Moteur=Combustion Interne',\n",
       "       'Type Moteur=Diesel électrique', 'Type Moteur=Explosion',\n",
       "       'Type Moteur=Propulseur électrique', 'Type Moteur=Turbine à vapeur'],\n",
       "      dtype='object')"
      ]
     },
     "execution_count": 15,
     "metadata": {},
     "output_type": "execute_result"
    }
   ],
   "source": [
    "X.columns"
   ]
  },
  {
   "cell_type": "code",
   "execution_count": 16,
   "metadata": {},
   "outputs": [],
   "source": [
    "X.to_csv('dataframe.csv')"
   ]
  }
 ],
 "metadata": {
  "kernelspec": {
   "display_name": "Python 3",
   "language": "python",
   "name": "python3"
  },
  "language_info": {
   "codemirror_mode": {
    "name": "ipython",
    "version": 3
   },
   "file_extension": ".py",
   "mimetype": "text/x-python",
   "name": "python",
   "nbconvert_exporter": "python",
   "pygments_lexer": "ipython3",
   "version": "3.8.3"
  }
 },
 "nbformat": 4,
 "nbformat_minor": 4
}
