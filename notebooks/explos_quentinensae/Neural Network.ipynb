{
 "cells": [
  {
   "cell_type": "markdown",
   "metadata": {},
   "source": [
    "# Réseau de neurones"
   ]
  },
  {
   "cell_type": "code",
   "execution_count": 2,
   "metadata": {},
   "outputs": [],
   "source": [
    "import numpy as np\n",
    "import pandas as pd\n",
    "import matplotlib.pyplot as plt"
   ]
  },
  {
   "cell_type": "code",
   "execution_count": 3,
   "metadata": {},
   "outputs": [],
   "source": [
    "folder=\"C:\\\\Users\\\\quentin.mascart\\\\Documents\\\\Stage DAM\\\\CibNav\\\\\""
   ]
  },
  {
   "cell_type": "code",
   "execution_count": 4,
   "metadata": {},
   "outputs": [],
   "source": [
    "Navire=pd.read_csv(folder+\"Données\\\\Navire.csv\")\n",
    "Historique=pd.read_csv(folder+\"Données\\\\Dataset_train.csv\")\n",
    "Base=pd.read_csv(folder+\"Données\\\\Base.csv\")"
   ]
  },
  {
   "cell_type": "code",
   "execution_count": 4,
   "metadata": {},
   "outputs": [],
   "source": [
    "Navire=Navire[['ID Nav Flotteur', 'Annee Construction', 'Genre Navigation', 'Jauge Oslo', 'Longueur Hors Tout', 'Materiau Coque', 'Nombre Moteur', 'Num Version', 'Puissance Administrative', 'Situation Flotteur', 'Type Carburant', 'Type Moteur']]"
   ]
  },
  {
   "cell_type": "code",
   "execution_count": 5,
   "metadata": {},
   "outputs": [],
   "source": [
    "Historique=Historique[['ID Nav Flotteur','Date Visite','Annee Visite','Sitrep History','Nombre Prescriptions','Nombre Prescriptions Majeurs']]"
   ]
  },
  {
   "cell_type": "code",
   "execution_count": 6,
   "metadata": {},
   "outputs": [],
   "source": [
    "df=pd.merge(Historique,Navire,on='ID Nav Flotteur')"
   ]
  },
  {
   "cell_type": "code",
   "execution_count": 7,
   "metadata": {},
   "outputs": [],
   "source": [
    "df['age']=df['Annee Visite']-df['Annee Construction']\n",
    "del df['Annee Construction']"
   ]
  },
  {
   "cell_type": "code",
   "execution_count": 8,
   "metadata": {},
   "outputs": [],
   "source": [
    "Data=df"
   ]
  },
  {
   "cell_type": "code",
   "execution_count": 9,
   "metadata": {},
   "outputs": [],
   "source": [
    "Data['Tendance']=(df.groupby(['ID Nav Flotteur'])['Nombre Prescriptions'].shift(1)>df.groupby(['ID Nav Flotteur'])['Nombre Prescriptions'].shift(2))*1"
   ]
  },
  {
   "cell_type": "code",
   "execution_count": 10,
   "metadata": {},
   "outputs": [
    {
     "name": "stdout",
     "output_type": "stream",
     "text": [
      "<class 'pandas.core.frame.DataFrame'>\n",
      "Int64Index: 27803 entries, 0 to 27802\n",
      "Data columns (total 18 columns):\n",
      " #   Column                        Non-Null Count  Dtype  \n",
      "---  ------                        --------------  -----  \n",
      " 0   ID Nav Flotteur               27803 non-null  float64\n",
      " 1   Date Visite                   27803 non-null  object \n",
      " 2   Annee Visite                  27803 non-null  int64  \n",
      " 3   Sitrep History                27803 non-null  int64  \n",
      " 4   Nombre Prescriptions          27803 non-null  float64\n",
      " 5   Nombre Prescriptions Majeurs  27803 non-null  float64\n",
      " 6   Genre Navigation              22510 non-null  object \n",
      " 7   Jauge Oslo                    25245 non-null  float64\n",
      " 8   Longueur Hors Tout            27803 non-null  float64\n",
      " 9   Materiau Coque                27803 non-null  object \n",
      " 10  Nombre Moteur                 27405 non-null  float64\n",
      " 11  Num Version                   27803 non-null  float64\n",
      " 12  Puissance Administrative      27287 non-null  float64\n",
      " 13  Situation Flotteur            27803 non-null  object \n",
      " 14  Type Carburant                27405 non-null  object \n",
      " 15  Type Moteur                   27155 non-null  object \n",
      " 16  age                           27803 non-null  float64\n",
      " 17  Tendance                      27803 non-null  int32  \n",
      "dtypes: float64(9), int32(1), int64(2), object(6)\n",
      "memory usage: 3.9+ MB\n"
     ]
    }
   ],
   "source": [
    "Data.info()"
   ]
  },
  {
   "cell_type": "code",
   "execution_count": 11,
   "metadata": {},
   "outputs": [],
   "source": [
    "Base['Tendance']=(df.groupby(['ID Nav Flotteur'])['Nombre Prescriptions'].shift(1)>df.groupby(['ID Nav Flotteur'])['Nombre Prescriptions'].shift(2))*1"
   ]
  },
  {
   "cell_type": "markdown",
   "metadata": {},
   "source": [
    "# Apprentissage supervisé"
   ]
  },
  {
   "cell_type": "markdown",
   "metadata": {},
   "source": [
    "### Chargement des packages + données"
   ]
  },
  {
   "cell_type": "code",
   "execution_count": 12,
   "metadata": {},
   "outputs": [],
   "source": [
    "import matplotlib.pyplot as plt\n",
    "import statsmodels.api as sm\n",
    "import math\n",
    "from sklearn.base import BaseEstimator, TransformerMixin\n",
    "from sklearn.linear_model import LogisticRegression\n",
    "from sklearn.pipeline import Pipeline\n",
    "from sklearn.preprocessing import MaxAbsScaler, StandardScaler,RobustScaler\n",
    "from sklearn.model_selection import train_test_split, GridSearchCV\n",
    "from sklearn.metrics import balanced_accuracy_score, make_scorer"
   ]
  },
  {
   "cell_type": "code",
   "execution_count": 13,
   "metadata": {},
   "outputs": [],
   "source": [
    "#Création de la cible au moins une prescription majeure\n",
    "Data['Cible'] = Data['Nombre Prescriptions Majeurs'].apply(lambda x: '1' if x > 0 else '0').astype(int)\n",
    "#Création de la cible au moins une préscription majeure ou au moins 4 mineurs\n",
    "Data['Cible_deux'] = Data['Cible'] + Data['Nombre Prescriptions'].apply(lambda x: '1' if x > 3 else '0').astype(int)\n",
    "Data['Cible_deux'] = Data['Cible_deux'].apply(lambda x: '1' if x > 0 else '0').astype(int)"
   ]
  },
  {
   "cell_type": "code",
   "execution_count": 7,
   "metadata": {},
   "outputs": [
    {
     "data": {
      "text/plain": [
       "0.5428910549221307"
      ]
     },
     "execution_count": 7,
     "metadata": {},
     "output_type": "execute_result"
    }
   ],
   "source": [
    "Base['Cible'].sum()/len(Base)"
   ]
  },
  {
   "cell_type": "markdown",
   "metadata": {},
   "source": [
    "### Création d'une classe pour intégrer les pondérations au gridsearch"
   ]
  },
  {
   "cell_type": "markdown",
   "metadata": {},
   "source": [
    "Définitions des poids :"
   ]
  },
  {
   "cell_type": "code",
   "execution_count": 14,
   "metadata": {},
   "outputs": [],
   "source": [
    "lag=max(Data['ID Nav Flotteur'].value_counts())\n",
    "#Poid logarithmique\n",
    "#On génère lag-points espacés logarithmiquement de 1 à 10\n",
    "poids_log=list(np.logspace(0, 1, lag, endpoint=True))[::-1] #Pour décroissant\n",
    "#Poids arithmétique\n",
    "poids_arith=np.arange(lag)[::-1]\n",
    "#Poids constant pour chaque visite\n",
    "poids_const= list(np.ones(lag))[::-1]\n",
    "#On ne prend en compte que la dernière visite\n",
    "poids_prec= list(np.zeros(lag))[::-1]\n",
    "poids_prec[0]=1.0"
   ]
  },
  {
   "cell_type": "markdown",
   "metadata": {},
   "source": [
    "Définition de la fonction de pondération :\n",
    "On applique un poids à chaque visite d'un bateau"
   ]
  },
  {
   "cell_type": "code",
   "execution_count": 15,
   "metadata": {},
   "outputs": [],
   "source": [
    "def pondération(data,poids,variable,unite):\n",
    "    \"\"\"Cette fonction permet de selectionner un vecteur et de pondérer son historique en fonction\n",
    "    de poids.\"\"\"\n",
    "    df= data.copy(deep=True)#On copie pour ne pas modifier directement notre Dataframe\n",
    "    df[\"nom\"]=0\n",
    "    \n",
    "    for i in range(0,len(poids)): #On boucle sur l'historique et on affecte un poids a chaque visite antérieure\n",
    "        df[\"poids\"]=poids[i]*df.groupby([unite])[variable].shift(i+1)\n",
    "        df['nom'] = df.fillna(0)['nom'] + df.fillna(0)[\"poids\"]\n",
    "        \n",
    "    del (df['poids'])\n",
    "    df[variable]=df['nom']\n",
    "    del (df['nom'])\n",
    "    \n",
    "    return(df)"
   ]
  },
  {
   "cell_type": "code",
   "execution_count": 16,
   "metadata": {},
   "outputs": [],
   "source": [
    "Data=pondération(Data,poids_const,'Nombre Prescriptions Majeurs','ID Nav Flotteur')"
   ]
  },
  {
   "cell_type": "code",
   "execution_count": 17,
   "metadata": {},
   "outputs": [],
   "source": [
    "Data=pondération(Data,poids_log,'Nombre Prescriptions','ID Nav Flotteur')"
   ]
  },
  {
   "cell_type": "markdown",
   "metadata": {},
   "source": [
    "## Train/Test"
   ]
  },
  {
   "cell_type": "markdown",
   "metadata": {},
   "source": [
    "##### Cible = au moins une prescription majeure ou au moins 4 Prescriptions mineures "
   ]
  },
  {
   "cell_type": "code",
   "execution_count": 18,
   "metadata": {},
   "outputs": [
    {
     "data": {
      "text/plain": [
       "Index(['Age', 'Annee Construction', 'Annee Visite', 'Cible', 'Date Visite',\n",
       "       'Delai Visites', 'Genre Navigation', 'ID Gin Visite', 'ID Nav Flotteur',\n",
       "       'Jauge Oslo', 'Longueur Hors Tout', 'Materiau Coque', 'Nombre Moteur',\n",
       "       'Nombre Prescriptions', 'Nombre Prescriptions Hist',\n",
       "       'Nombre Prescriptions Majeurs', 'Nombre Prescriptions Majeurs Hist',\n",
       "       'Num Version', 'Puissance Administrative', 'Sitrep History',\n",
       "       'Situation Flotteur', 'Type Carburant', 'Type Moteur', 'Tendance'],\n",
       "      dtype='object')"
      ]
     },
     "execution_count": 18,
     "metadata": {},
     "output_type": "execute_result"
    }
   ],
   "source": [
    "Base.columns"
   ]
  },
  {
   "cell_type": "code",
   "execution_count": 19,
   "metadata": {},
   "outputs": [],
   "source": [
    "test_size=0.33\n",
    "df=Base.copy()\n",
    "df=df.sort_values(by='Date Visite')\n",
    "del df[\"Date Visite\"]\n",
    "int(len(Data)*test_size)\n",
    "\n",
    "#frac=1 : on shuffle les données.\n",
    "X_train=df.head(int(len(Data)*(1-test_size))).sample(frac=1)\n",
    "X_test=df.tail(int(len(Data)*(test_size))).sample(frac=1)\n",
    "\n",
    "Y_train=X_train['Cible']\n",
    "Y_test=X_test['Cible']\n",
    "\n",
    "del X_train['Cible']\n",
    "del X_test['Cible']\n",
    "del X_train['Nombre Prescriptions']\n",
    "del X_train['Nombre Prescriptions Majeurs']\n",
    "del X_train['ID Gin Visite']\n",
    "del X_train['Annee Construction']\n",
    "del X_train['ID Nav Flotteur']\n",
    "del X_test['Nombre Prescriptions']\n",
    "del X_test['Nombre Prescriptions Majeurs']\n",
    "del X_test['ID Gin Visite']\n",
    "del X_test['Annee Construction']\n",
    "del X_test['ID Nav Flotteur']"
   ]
  },
  {
   "cell_type": "markdown",
   "metadata": {},
   "source": [
    "### Preprocessing"
   ]
  },
  {
   "cell_type": "code",
   "execution_count": 20,
   "metadata": {},
   "outputs": [],
   "source": [
    "from sklearn.compose import ColumnTransformer\n",
    "from sklearn.impute import SimpleImputer\n",
    "from sklearn.pipeline import Pipeline\n",
    "from sklearn.preprocessing import OneHotEncoder\n",
    "from sklearn.tree import DecisionTreeClassifier"
   ]
  },
  {
   "cell_type": "code",
   "execution_count": 21,
   "metadata": {},
   "outputs": [],
   "source": [
    "categories = ['Genre Navigation', 'Materiau Coque', 'Situation Flotteur', 'Type Carburant', 'Type Moteur']\n",
    "numerique = ['Annee Visite', 'Jauge Oslo', 'Longueur Hors Tout', 'Num Version', 'Puissance Administrative','Nombre Prescriptions Hist','Nombre Prescriptions Majeurs Hist','Sitrep History','Age','Delai Visites','Tendance']\n",
    "#Sans le nombre de moteur car traitement a part"
   ]
  },
  {
   "cell_type": "code",
   "execution_count": 22,
   "metadata": {},
   "outputs": [],
   "source": [
    "categorical_preprocessing = Pipeline([('imputer_str', SimpleImputer(strategy=\"constant\", fill_value='None')),\n",
    "                                      ('ohe', OneHotEncoder(handle_unknown='ignore',sparse =False))]) \n",
    "#ATTENTION avec OneHotEncoder on ne gère pas les problèmes éventuels de multicolinéarité puisqu'on ne peut handle_unknown et drop:\"first\"\n",
    "\n",
    "numeric_preprocessing = Pipeline(steps=[\n",
    "    (\"imputer_num\", SimpleImputer(strategy=\"mean\")), # La moyenne\n",
    "    (\"scaler\", MaxAbsScaler())])\n",
    "\n",
    "#Pour le nombre de moteur\n",
    "numeric_preprocessing_moteur = Pipeline(steps=[\n",
    "    (\"imputer_num\", SimpleImputer(strategy=\"most_frequent\")), # Le plus fréquent\n",
    "    (\"scaler\", MaxAbsScaler())])\n",
    "\n",
    "preprocess = ColumnTransformer([\n",
    "    ('categorical_preprocessing', categorical_preprocessing, categories),\n",
    "    ('numerical_preprocessing_mot', numeric_preprocessing_moteur, ['Nombre Moteur']),\n",
    "    ('numerical_preprocessing', numeric_preprocessing, numerique)\n",
    "    \n",
    "])"
   ]
  },
  {
   "cell_type": "markdown",
   "metadata": {},
   "source": [
    "### Classification"
   ]
  },
  {
   "cell_type": "code",
   "execution_count": 23,
   "metadata": {},
   "outputs": [],
   "source": [
    "from sklearn.ensemble import RandomForestClassifier\n",
    "pipe = Pipeline([\n",
    "    ('preprocess', preprocess),\n",
    "    ('RF', RandomForestClassifier(n_estimators=200, max_depth=110, \n",
    "        min_samples_split=8, min_samples_leaf=3, max_features=3,bootstrap=True))\n",
    "])"
   ]
  },
  {
   "cell_type": "code",
   "execution_count": 24,
   "metadata": {},
   "outputs": [],
   "source": [
    "model=pipe.fit(X_train,Y_train)"
   ]
  },
  {
   "cell_type": "code",
   "execution_count": 25,
   "metadata": {},
   "outputs": [
    {
     "data": {
      "text/html": [
       "<div>\n",
       "<style scoped>\n",
       "    .dataframe tbody tr th:only-of-type {\n",
       "        vertical-align: middle;\n",
       "    }\n",
       "\n",
       "    .dataframe tbody tr th {\n",
       "        vertical-align: top;\n",
       "    }\n",
       "\n",
       "    .dataframe thead th {\n",
       "        text-align: right;\n",
       "    }\n",
       "</style>\n",
       "<table border=\"1\" class=\"dataframe\">\n",
       "  <thead>\n",
       "    <tr style=\"text-align: right;\">\n",
       "      <th></th>\n",
       "      <th>prédit Prescription majeure</th>\n",
       "      <th>prédit Pas de prescription majeure</th>\n",
       "    </tr>\n",
       "  </thead>\n",
       "  <tbody>\n",
       "    <tr>\n",
       "      <th>vrai Prescription majeure</th>\n",
       "      <td>2054</td>\n",
       "      <td>2248</td>\n",
       "    </tr>\n",
       "    <tr>\n",
       "      <th>vrai Pas de prescription majeure</th>\n",
       "      <td>1097</td>\n",
       "      <td>3775</td>\n",
       "    </tr>\n",
       "  </tbody>\n",
       "</table>\n",
       "</div>"
      ],
      "text/plain": [
       "                                  prédit Prescription majeure  \\\n",
       "vrai Prescription majeure                                2054   \n",
       "vrai Pas de prescription majeure                         1097   \n",
       "\n",
       "                                  prédit Pas de prescription majeure  \n",
       "vrai Prescription majeure                                       2248  \n",
       "vrai Pas de prescription majeure                                3775  "
      ]
     },
     "execution_count": 25,
     "metadata": {},
     "output_type": "execute_result"
    }
   ],
   "source": [
    "from sklearn.metrics import confusion_matrix\n",
    "conf = confusion_matrix(Y_test, model.predict(X_test))\n",
    "cf = pd.DataFrame(conf, columns=['prédit ' + _ for _ in ['Prescription majeure', 'Pas de prescription majeure']])\n",
    "cf.index = ['vrai ' + _ for _ in ['Prescription majeure', 'Pas de prescription majeure']]\n",
    "cf"
   ]
  },
  {
   "cell_type": "code",
   "execution_count": 26,
   "metadata": {},
   "outputs": [
    {
     "data": {
      "image/png": "[encoded data removed]",
      "text/plain": [
       "<Figure size 432x288 with 1 Axes>"
      ]
     },
     "metadata": {
      "needs_background": "light"
     },
     "output_type": "display_data"
    }
   ],
   "source": [
    "from sklearn.metrics import plot_roc_curve, recall_score, precision_score, roc_auc_score, make_scorer\n",
    "svc_disp = plot_roc_curve(model, X_test, Y_test)\n",
    "plt.show()"
   ]
  },
  {
   "cell_type": "code",
   "execution_count": 27,
   "metadata": {},
   "outputs": [],
   "source": [
    "from sklearn.dummy import DummyClassifier"
   ]
  },
  {
   "cell_type": "code",
   "execution_count": 28,
   "metadata": {},
   "outputs": [
    {
     "data": {
      "text/plain": [
       "Pipeline(steps=[('preprocess',\n",
       "                 ColumnTransformer(transformers=[('categorical_preprocessing',\n",
       "                                                  Pipeline(steps=[('imputer_str',\n",
       "                                                                   SimpleImputer(fill_value='None',\n",
       "                                                                                 strategy='constant')),\n",
       "                                                                  ('ohe',\n",
       "                                                                   OneHotEncoder(handle_unknown='ignore',\n",
       "                                                                                 sparse=False))]),\n",
       "                                                  ['Genre Navigation',\n",
       "                                                   'Materiau Coque',\n",
       "                                                   'Situation Flotteur',\n",
       "                                                   'Type Carburant',\n",
       "                                                   'Type Moteur']),\n",
       "                                                 ('numerical_preprocessing_...\n",
       "                                                 ('numerical_preprocessing',\n",
       "                                                  Pipeline(steps=[('imputer_num',\n",
       "                                                                   SimpleImputer()),\n",
       "                                                                  ('scaler',\n",
       "                                                                   MaxAbsScaler())]),\n",
       "                                                  ['Annee Visite', 'Jauge Oslo',\n",
       "                                                   'Longueur Hors Tout',\n",
       "                                                   'Num Version',\n",
       "                                                   'Puissance Administrative',\n",
       "                                                   'Nombre Prescriptions Hist',\n",
       "                                                   'Nombre Prescriptions '\n",
       "                                                   'Majeurs Hist',\n",
       "                                                   'Sitrep History', 'Age',\n",
       "                                                   'Delai Visites',\n",
       "                                                   'Tendance'])])),\n",
       "                ('Dummy', DummyClassifier(strategy='stratified'))])"
      ]
     },
     "execution_count": 28,
     "metadata": {},
     "output_type": "execute_result"
    }
   ],
   "source": [
    "dummy = Pipeline([\n",
    "    ('preprocess', preprocess),\n",
    "    ('Dummy', DummyClassifier(strategy='stratified'))])\n",
    "dummy.fit(X_train, Y_train.values.ravel())"
   ]
  },
  {
   "cell_type": "code",
   "execution_count": 29,
   "metadata": {},
   "outputs": [
    {
     "data": {
      "text/html": [
       "<div>\n",
       "<style scoped>\n",
       "    .dataframe tbody tr th:only-of-type {\n",
       "        vertical-align: middle;\n",
       "    }\n",
       "\n",
       "    .dataframe tbody tr th {\n",
       "        vertical-align: top;\n",
       "    }\n",
       "\n",
       "    .dataframe thead th {\n",
       "        text-align: right;\n",
       "    }\n",
       "</style>\n",
       "<table border=\"1\" class=\"dataframe\">\n",
       "  <thead>\n",
       "    <tr style=\"text-align: right;\">\n",
       "      <th></th>\n",
       "      <th>prédit Prescription majeure</th>\n",
       "      <th>prédit Pas de prescription majeure</th>\n",
       "    </tr>\n",
       "  </thead>\n",
       "  <tbody>\n",
       "    <tr>\n",
       "      <th>vrai Prescription majeure</th>\n",
       "      <td>1907</td>\n",
       "      <td>2395</td>\n",
       "    </tr>\n",
       "    <tr>\n",
       "      <th>vrai Pas de prescription majeure</th>\n",
       "      <td>2211</td>\n",
       "      <td>2661</td>\n",
       "    </tr>\n",
       "  </tbody>\n",
       "</table>\n",
       "</div>"
      ],
      "text/plain": [
       "                                  prédit Prescription majeure  \\\n",
       "vrai Prescription majeure                                1907   \n",
       "vrai Pas de prescription majeure                         2211   \n",
       "\n",
       "                                  prédit Pas de prescription majeure  \n",
       "vrai Prescription majeure                                       2395  \n",
       "vrai Pas de prescription majeure                                2661  "
      ]
     },
     "execution_count": 29,
     "metadata": {},
     "output_type": "execute_result"
    }
   ],
   "source": [
    "from sklearn.metrics import confusion_matrix\n",
    "conf = confusion_matrix(Y_test, dummy.predict(X_test))\n",
    "cf = pd.DataFrame(conf, columns=['prédit ' + _ for _ in ['Prescription majeure', 'Pas de prescription majeure']])\n",
    "cf.index = ['vrai ' + _ for _ in ['Prescription majeure', 'Pas de prescription majeure']]\n",
    "cf"
   ]
  },
  {
   "cell_type": "code",
   "execution_count": 30,
   "metadata": {},
   "outputs": [],
   "source": [
    "RF_T=Y_test.array\n",
    "RF_P=model.predict(X_test)\n",
    "DUM_P=dummy.predict(X_test)"
   ]
  },
  {
   "cell_type": "markdown",
   "metadata": {},
   "source": [
    "# Choix de nouveaux modèles"
   ]
  },
  {
   "cell_type": "code",
   "execution_count": 32,
   "metadata": {},
   "outputs": [],
   "source": [
    "import numpy as np\n",
    "import torch\n",
    "import torchvision\n",
    "import matplotlib.pyplot as plt\n",
    "from torchvision import datasets, transforms\n",
    "import torch.nn as nn\n",
    "import torch.nn.functional as F\n",
    "import torch.optim as optim\n",
    "from tqdm.notebook import tqdm\n"
   ]
  },
  {
   "cell_type": "code",
   "execution_count": 33,
   "metadata": {},
   "outputs": [],
   "source": [
    "import matplotlib.pyplot as plt\n",
    "import statsmodels.api as sm\n",
    "import math\n",
    "from sklearn.base import BaseEstimator, TransformerMixin\n",
    "from sklearn.linear_model import LogisticRegression\n",
    "from sklearn.pipeline import Pipeline\n",
    "from sklearn.preprocessing import MaxAbsScaler, StandardScaler,RobustScaler,OneHotEncoder\n",
    "from sklearn.model_selection import train_test_split, GridSearchCV\n",
    "from sklearn.metrics import balanced_accuracy_score, make_scorer\n",
    "from sklearn.compose import ColumnTransformer\n",
    "from sklearn.impute import SimpleImputer"
   ]
  },
  {
   "cell_type": "code",
   "execution_count": 34,
   "metadata": {},
   "outputs": [],
   "source": [
    "categories = ['Genre Navigation', 'Materiau Coque', 'Situation Flotteur', 'Type Carburant', 'Type Moteur']\n",
    "numerique = ['Annee Visite', 'Jauge Oslo', 'Longueur Hors Tout', 'Num Version', 'Puissance Administrative','Nombre Prescriptions Hist','Nombre Prescriptions Majeurs Hist','Sitrep History','Age','Delai Visites','Tendance','Cible']\n",
    "#Sans le nombre de moteur car traitement a part\n",
    "categorical_preprocessing = Pipeline([('imputer_str', SimpleImputer(strategy=\"constant\", fill_value='None')),\n",
    "                                      ('ohe', OneHotEncoder(handle_unknown='ignore',sparse =False))]) \n",
    "#ATTENTION avec OneHotEncoder on ne gère pas les problèmes éventuels de multicolinéarité puisqu'on ne peut handle_unknown et drop:\"first\"\n",
    "\n",
    "numeric_preprocessing = Pipeline(steps=[\n",
    "    (\"imputer_num\", SimpleImputer(strategy=\"mean\")), # La moyenne\n",
    "    (\"scaler\", MaxAbsScaler())])\n",
    "\n",
    "#Pour le nombre de moteur\n",
    "numeric_preprocessing_moteur = Pipeline(steps=[\n",
    "    (\"imputer_num\", SimpleImputer(strategy=\"most_frequent\")), # Le plus fréquent\n",
    "    (\"scaler\", MaxAbsScaler())])\n",
    "\n",
    "preprocess = ColumnTransformer([\n",
    "    ('categorical_preprocessing', categorical_preprocessing, categories),\n",
    "    ('numerical_preprocessing_mot', numeric_preprocessing_moteur, ['Nombre Moteur']),\n",
    "    ('numerical_preprocessing', numeric_preprocessing, numerique)\n",
    "    \n",
    "])"
   ]
  },
  {
   "cell_type": "code",
   "execution_count": 35,
   "metadata": {},
   "outputs": [],
   "source": [
    "test_size=0.33\n",
    "df=Base.copy()\n",
    "df=df.sort_values(by='Date Visite')"
   ]
  },
  {
   "cell_type": "code",
   "execution_count": 36,
   "metadata": {},
   "outputs": [],
   "source": [
    "df=df[['Age',\n",
    " 'Annee Visite',\n",
    " 'Delai Visites',\n",
    " 'Genre Navigation',\n",
    " 'Jauge Oslo',\n",
    " 'Longueur Hors Tout',\n",
    " 'Materiau Coque',\n",
    " 'Nombre Moteur',\n",
    " 'Nombre Prescriptions Hist',\n",
    " 'Nombre Prescriptions Majeurs Hist',\n",
    " 'Num Version',\n",
    " 'Puissance Administrative',\n",
    " 'Sitrep History',\n",
    " 'Situation Flotteur',\n",
    " 'Type Carburant',\n",
    " 'Type Moteur',\n",
    " 'Tendance',\n",
    " 'Cible']]"
   ]
  },
  {
   "cell_type": "code",
   "execution_count": 37,
   "metadata": {},
   "outputs": [],
   "source": [
    "A=preprocess.fit_transform(df)"
   ]
  },
  {
   "cell_type": "code",
   "execution_count": 38,
   "metadata": {},
   "outputs": [],
   "source": [
    "X_train=A[0:int(len(Base)*(1-test_size))]\n",
    "X_test=A[int(len(Base)*(1-test_size)):len(Base)]"
   ]
  },
  {
   "cell_type": "code",
   "execution_count": 39,
   "metadata": {},
   "outputs": [],
   "source": [
    "from torch.utils.data import Dataset\n",
    "class FeatureDataset(Dataset):\n",
    "    \n",
    "    def __init__(self, data):\n",
    "        #Base\n",
    "        file_out = data \n",
    "        x=data[1:18628,1:65]\n",
    "        y=data[1:18628,65]\n",
    "        \n",
    "        #converting to torch tensors\n",
    "        self.X_train = torch.tensor(x,dtype=torch.float32)\n",
    "        self.y_train = torch.tensor(y,dtype=torch.int64)\n",
    "        \n",
    "    def __len__(self):\n",
    "        return len(self.y_train)\n",
    "    \n",
    "    def __getitem__(self,idx):\n",
    "        return self.X_train[idx],self.y_train[idx]"
   ]
  },
  {
   "cell_type": "code",
   "execution_count": 40,
   "metadata": {},
   "outputs": [],
   "source": [
    "all_train=FeatureDataset(X_train)\n",
    "# We split the whole train set in two parts:\n",
    "# the one that we actually use for training\n",
    "# and the one that we use for validation\n",
    "batch_size = 32  # size of the mini batch\n",
    "num_train = int(0.8 * len(all_train))\n",
    "\n",
    "trainset, valset = torch.utils.data.random_split(all_train, [num_train, len(all_train) - num_train])\n",
    "trainloader = torch.utils.data.DataLoader(trainset, batch_size=batch_size, shuffle=False)\n",
    "valloader = torch.utils.data.DataLoader(valset, batch_size=batch_size, shuffle=False)"
   ]
  },
  {
   "cell_type": "markdown",
   "metadata": {},
   "source": [
    "# Réseau de neurones"
   ]
  },
  {
   "cell_type": "code",
   "execution_count": 133,
   "metadata": {},
   "outputs": [],
   "source": [
    "class SimpleFeedForward(nn.Module):\n",
    "    def __init__(self, input_size=64, hidden_sizes=[128, 64, 32],\n",
    "                 output_size=2,drop=0.5):\n",
    "        super().__init__()\n",
    "        self.classifier = nn.Sequential(\n",
    "            nn.Linear(input_size, hidden_sizes[0]), \n",
    "            nn.Dropout(drop),\n",
    "            nn.ReLU(),\n",
    "            nn.Linear(hidden_sizes[0], hidden_sizes[1]),\n",
    "            nn.ReLU(),\n",
    "            nn.Linear(hidden_sizes[1], hidden_sizes[2]),\n",
    "            nn.ReLU(),\n",
    "            nn.Linear(hidden_sizes[2], output_size)\n",
    "        )\n",
    "\n",
    "    def forward(self, x):\n",
    "        x = x.reshape(-1, input_size)\n",
    "        x = self.classifier(x)\n",
    "        return x"
   ]
  },
  {
   "cell_type": "markdown",
   "metadata": {},
   "source": [
    "# Evaluation"
   ]
  },
  {
   "cell_type": "code",
   "execution_count": 42,
   "metadata": {},
   "outputs": [],
   "source": [
    "# Training consists of gradient steps over mini batch of data\n",
    "def train(model, trainloader, loss, optimizer, epoch, num_epochs):\n",
    "    # We enter train mode. This is useless for the linear model\n",
    "    # but is important for layers such as dropout, batchnorm, ...\n",
    "    model.train()\n",
    "    \n",
    "    loop = tqdm(trainloader)\n",
    "    loop.set_description(f'Training Epoch [{epoch + 1}/{num_epochs}]')\n",
    "    \n",
    "    # We iterate over the mini batches of our data\n",
    "    for inputs, targets in loop:\n",
    "    \n",
    "        # Erase any previously stored gradient\n",
    "        optimizer.zero_grad()\n",
    "        \n",
    "        \n",
    "        outputs = model(inputs) # Forwards stage (prediction with current weights)\n",
    "        loss = criterion(outputs, targets) # loss evaluation\n",
    "        \n",
    "        loss.backward() # Back propagation (evaluate gradients) \n",
    "        \n",
    "        \n",
    "        # Making gradient step on the batch (this function takes care of the gradient step for us)\n",
    "        optimizer.step()\n",
    "        \n",
    "def validation(model, valloader, loss):\n",
    "    # Do not compute gradient, since we do not need it for validation step\n",
    "    with torch.no_grad():\n",
    "        # We enter evaluation mode.\n",
    "        model.eval()\n",
    "        \n",
    "        total = 0 # keep track of currently used samples\n",
    "        running_loss = 0.0 # accumulated loss without averagind\n",
    "        accuracy = 0.0 # accumulated accuracy without averagind (number of correct predictions)\n",
    "        \n",
    "        loop = tqdm(valloader) # This is for the progress bar\n",
    "        loop.set_description('Validation in progress')\n",
    "        \n",
    "        \n",
    "        # We again iterate over the batches of validation data. batch_size does not play any role here\n",
    "        for inputs, targets in loop:\n",
    "            # Run samples through our net\n",
    "            outputs = model(inputs)\n",
    "\n",
    "            # Total number of used samples\n",
    "            total += inputs.shape[0]\n",
    "\n",
    "            # Multiply loss by the batch size to erase averagind on the batch\n",
    "            running_loss += inputs.shape[0] * loss(outputs, targets).item()\n",
    "            \n",
    "            # how many correct predictions\n",
    "            accuracy += (outputs.argmax(dim=1) == targets).sum().item()\n",
    "            \n",
    "            # set nice progress meassage\n",
    "            loop.set_postfix(val_loss=(running_loss / total), val_acc=(accuracy / total))\n",
    "        return running_loss / total, accuracy / total"
   ]
  },
  {
   "cell_type": "code",
   "execution_count": 142,
   "metadata": {},
   "outputs": [],
   "source": [
    "# Net + training parameters\n",
    "\n",
    "num_epochs = 10 # how many passes over the whole train data\n",
    "\n",
    "input_size = 64 # flattened size of the image\n",
    "\n",
    "hidden_sizes = [128, 64, 32] # sizes of hidden layers\n",
    "\n",
    "output_size = 2 # how many labels we have\n",
    "\n",
    "drop = 0\n",
    "\n",
    "lr = 0.01 # learning rate\n",
    "\n",
    "momentum = 0.7 # momentum\n",
    "\n",
    "poids=torch.tensor([[1, 1]],dtype=torch.float32)#Poids"
   ]
  },
  {
   "cell_type": "code",
   "execution_count": 143,
   "metadata": {},
   "outputs": [],
   "source": [
    "# initializing our model/loss/optimizer\n",
    "net = SimpleFeedForward(input_size, hidden_sizes, output_size) # Our neural net\n",
    "criterion = nn.CrossEntropyLoss(poids) # Loss function to be optimized\n",
    "optimizer = optim.SGD(net.parameters(), lr=lr, momentum=momentum) # Optimization algorithm"
   ]
  },
  {
   "cell_type": "code",
   "execution_count": 144,
   "metadata": {
    "scrolled": true
   },
   "outputs": [
    {
     "data": {
      "application/vnd.jupyter.widget-view+json": {
       "model_id": "ba94a24cd8334a45b2147424fa3f8062",
       "version_major": 2,
       "version_minor": 0
      },
      "text/plain": [
       "HBox(children=(FloatProgress(value=0.0, max=466.0), HTML(value='')))"
      ]
     },
     "metadata": {},
     "output_type": "display_data"
    },
    {
     "name": "stdout",
     "output_type": "stream",
     "text": [
      "\n"
     ]
    },
    {
     "data": {
      "application/vnd.jupyter.widget-view+json": {
       "model_id": "5caa4554f2a740dca3d9094faa70f84f",
       "version_major": 2,
       "version_minor": 0
      },
      "text/plain": [
       "HBox(children=(FloatProgress(value=0.0, max=117.0), HTML(value='')))"
      ]
     },
     "metadata": {},
     "output_type": "display_data"
    },
    {
     "name": "stdout",
     "output_type": "stream",
     "text": [
      "\n"
     ]
    },
    {
     "data": {
      "application/vnd.jupyter.widget-view+json": {
       "model_id": "3081203d7e1a4e5493239eb4b3db45e4",
       "version_major": 2,
       "version_minor": 0
      },
      "text/plain": [
       "HBox(children=(FloatProgress(value=0.0, max=466.0), HTML(value='')))"
      ]
     },
     "metadata": {},
     "output_type": "display_data"
    },
    {
     "name": "stdout",
     "output_type": "stream",
     "text": [
      "\n"
     ]
    },
    {
     "data": {
      "application/vnd.jupyter.widget-view+json": {
       "model_id": "f8abf275f004432cbbaaa2d8163712ff",
       "version_major": 2,
       "version_minor": 0
      },
      "text/plain": [
       "HBox(children=(FloatProgress(value=0.0, max=117.0), HTML(value='')))"
      ]
     },
     "metadata": {},
     "output_type": "display_data"
    },
    {
     "name": "stdout",
     "output_type": "stream",
     "text": [
      "\n"
     ]
    },
    {
     "data": {
      "application/vnd.jupyter.widget-view+json": {
       "model_id": "3f4613a3ed03472ab8123449fee77f2c",
       "version_major": 2,
       "version_minor": 0
      },
      "text/plain": [
       "HBox(children=(FloatProgress(value=0.0, max=466.0), HTML(value='')))"
      ]
     },
     "metadata": {},
     "output_type": "display_data"
    },
    {
     "name": "stdout",
     "output_type": "stream",
     "text": [
      "\n"
     ]
    },
    {
     "data": {
      "application/vnd.jupyter.widget-view+json": {
       "model_id": "d67063af31eb473db61016c6baf700b6",
       "version_major": 2,
       "version_minor": 0
      },
      "text/plain": [
       "HBox(children=(FloatProgress(value=0.0, max=117.0), HTML(value='')))"
      ]
     },
     "metadata": {},
     "output_type": "display_data"
    },
    {
     "name": "stdout",
     "output_type": "stream",
     "text": [
      "\n"
     ]
    },
    {
     "data": {
      "application/vnd.jupyter.widget-view+json": {
       "model_id": "23a4eb4ddf4b47f4ac9bedd2aa1d927f",
       "version_major": 2,
       "version_minor": 0
      },
      "text/plain": [
       "HBox(children=(FloatProgress(value=0.0, max=466.0), HTML(value='')))"
      ]
     },
     "metadata": {},
     "output_type": "display_data"
    },
    {
     "name": "stdout",
     "output_type": "stream",
     "text": [
      "\n"
     ]
    },
    {
     "data": {
      "application/vnd.jupyter.widget-view+json": {
       "model_id": "81f37f0d9d114f759b8346afd9855ecd",
       "version_major": 2,
       "version_minor": 0
      },
      "text/plain": [
       "HBox(children=(FloatProgress(value=0.0, max=117.0), HTML(value='')))"
      ]
     },
     "metadata": {},
     "output_type": "display_data"
    },
    {
     "name": "stdout",
     "output_type": "stream",
     "text": [
      "\n"
     ]
    },
    {
     "data": {
      "application/vnd.jupyter.widget-view+json": {
       "model_id": "75d18b8f2d5c442d93cbf5f9e88d0d53",
       "version_major": 2,
       "version_minor": 0
      },
      "text/plain": [
       "HBox(children=(FloatProgress(value=0.0, max=466.0), HTML(value='')))"
      ]
     },
     "metadata": {},
     "output_type": "display_data"
    },
    {
     "name": "stdout",
     "output_type": "stream",
     "text": [
      "\n"
     ]
    },
    {
     "data": {
      "application/vnd.jupyter.widget-view+json": {
       "model_id": "875c252e9d454663b7c0e76aa2f8e5bf",
       "version_major": 2,
       "version_minor": 0
      },
      "text/plain": [
       "HBox(children=(FloatProgress(value=0.0, max=117.0), HTML(value='')))"
      ]
     },
     "metadata": {},
     "output_type": "display_data"
    },
    {
     "name": "stdout",
     "output_type": "stream",
     "text": [
      "\n"
     ]
    },
    {
     "data": {
      "application/vnd.jupyter.widget-view+json": {
       "model_id": "56171b4fa9be476eb0060f81000ddd7f",
       "version_major": 2,
       "version_minor": 0
      },
      "text/plain": [
       "HBox(children=(FloatProgress(value=0.0, max=466.0), HTML(value='')))"
      ]
     },
     "metadata": {},
     "output_type": "display_data"
    },
    {
     "name": "stdout",
     "output_type": "stream",
     "text": [
      "\n"
     ]
    },
    {
     "data": {
      "application/vnd.jupyter.widget-view+json": {
       "model_id": "00d8862516804c73b645e4fbc26e068a",
       "version_major": 2,
       "version_minor": 0
      },
      "text/plain": [
       "HBox(children=(FloatProgress(value=0.0, max=117.0), HTML(value='')))"
      ]
     },
     "metadata": {},
     "output_type": "display_data"
    },
    {
     "name": "stdout",
     "output_type": "stream",
     "text": [
      "\n"
     ]
    },
    {
     "data": {
      "application/vnd.jupyter.widget-view+json": {
       "model_id": "8f90bd3da5664a219150da19bc5fc3f1",
       "version_major": 2,
       "version_minor": 0
      },
      "text/plain": [
       "HBox(children=(FloatProgress(value=0.0, max=466.0), HTML(value='')))"
      ]
     },
     "metadata": {},
     "output_type": "display_data"
    },
    {
     "name": "stdout",
     "output_type": "stream",
     "text": [
      "\n"
     ]
    },
    {
     "data": {
      "application/vnd.jupyter.widget-view+json": {
       "model_id": "7a920a51fe65493fbd272d6048d9199d",
       "version_major": 2,
       "version_minor": 0
      },
      "text/plain": [
       "HBox(children=(FloatProgress(value=0.0, max=117.0), HTML(value='')))"
      ]
     },
     "metadata": {},
     "output_type": "display_data"
    },
    {
     "name": "stdout",
     "output_type": "stream",
     "text": [
      "\n"
     ]
    },
    {
     "data": {
      "application/vnd.jupyter.widget-view+json": {
       "model_id": "a80e1a0258d040c1bded967b00473e7a",
       "version_major": 2,
       "version_minor": 0
      },
      "text/plain": [
       "HBox(children=(FloatProgress(value=0.0, max=466.0), HTML(value='')))"
      ]
     },
     "metadata": {},
     "output_type": "display_data"
    },
    {
     "name": "stdout",
     "output_type": "stream",
     "text": [
      "\n"
     ]
    },
    {
     "data": {
      "application/vnd.jupyter.widget-view+json": {
       "model_id": "398ec272e56a40b19fb4d4abc9724dfb",
       "version_major": 2,
       "version_minor": 0
      },
      "text/plain": [
       "HBox(children=(FloatProgress(value=0.0, max=117.0), HTML(value='')))"
      ]
     },
     "metadata": {},
     "output_type": "display_data"
    },
    {
     "name": "stdout",
     "output_type": "stream",
     "text": [
      "\n"
     ]
    },
    {
     "data": {
      "application/vnd.jupyter.widget-view+json": {
       "model_id": "867971b70b2f485ebfce9b1017b9d480",
       "version_major": 2,
       "version_minor": 0
      },
      "text/plain": [
       "HBox(children=(FloatProgress(value=0.0, max=466.0), HTML(value='')))"
      ]
     },
     "metadata": {},
     "output_type": "display_data"
    },
    {
     "name": "stdout",
     "output_type": "stream",
     "text": [
      "\n"
     ]
    },
    {
     "data": {
      "application/vnd.jupyter.widget-view+json": {
       "model_id": "fd1ef7b1c1f54d92baf2089119d35afc",
       "version_major": 2,
       "version_minor": 0
      },
      "text/plain": [
       "HBox(children=(FloatProgress(value=0.0, max=117.0), HTML(value='')))"
      ]
     },
     "metadata": {},
     "output_type": "display_data"
    },
    {
     "name": "stdout",
     "output_type": "stream",
     "text": [
      "\n"
     ]
    },
    {
     "data": {
      "application/vnd.jupyter.widget-view+json": {
       "model_id": "9880f487f151457b85de9a181b4180a2",
       "version_major": 2,
       "version_minor": 0
      },
      "text/plain": [
       "HBox(children=(FloatProgress(value=0.0, max=466.0), HTML(value='')))"
      ]
     },
     "metadata": {},
     "output_type": "display_data"
    },
    {
     "name": "stdout",
     "output_type": "stream",
     "text": [
      "\n"
     ]
    },
    {
     "data": {
      "application/vnd.jupyter.widget-view+json": {
       "model_id": "0cff9939a635417886b1a3ab723f98c6",
       "version_major": 2,
       "version_minor": 0
      },
      "text/plain": [
       "HBox(children=(FloatProgress(value=0.0, max=117.0), HTML(value='')))"
      ]
     },
     "metadata": {},
     "output_type": "display_data"
    },
    {
     "name": "stdout",
     "output_type": "stream",
     "text": [
      "\n"
     ]
    }
   ],
   "source": [
    "# num_epochs indicates the number of passes over the data\n",
    "for epoch in range(num_epochs):\n",
    "    \n",
    "    # makes one pass over the train data and updates weights\n",
    "    train(net, trainloader, criterion, optimizer, epoch, num_epochs)\n",
    "\n",
    "    # makes one pass over validation data and provides validation statistics\n",
    "    val_loss, val_acc = validation(net, valloader, criterion)"
   ]
  },
  {
   "cell_type": "code",
   "execution_count": 147,
   "metadata": {},
   "outputs": [
    {
     "data": {
      "application/vnd.jupyter.widget-view+json": {
       "model_id": "131d1dd04cb84f58959accfe5aca1d7d",
       "version_major": 2,
       "version_minor": 0
      },
      "text/plain": [
       "HBox(children=(FloatProgress(value=0.0, max=9174.0), HTML(value='')))"
      ]
     },
     "metadata": {},
     "output_type": "display_data"
    },
    {
     "name": "stdout",
     "output_type": "stream",
     "text": [
      "\n"
     ]
    }
   ],
   "source": [
    "testset = FeatureDataset(X_test)\n",
    "loop = tqdm(testset) # This is for the progress bar\n",
    "loop.set_description('Validation in progress')\n",
    "L=[]\n",
    "T=[]\n",
    "P=[]\n",
    "\n",
    "for inputs, targets in loop:\n",
    "    # Run samples through our net\n",
    "    outputs = net(inputs)\n",
    "    L.append(outputs.argmax(dim=1))\n",
    "    T.append(targets)\n",
    "    P.append(outputs)\n",
    "\n",
    "L = torch.stack(L)\n",
    "P = torch.stack(P)\n",
    "T = torch.stack(T)\n",
    "P=P.detach().numpy()[:,0][:,0]\n",
    "T=T.detach().numpy()\n",
    "L=L.detach().numpy()"
   ]
  },
  {
   "cell_type": "markdown",
   "metadata": {},
   "source": [
    "### Evaluation"
   ]
  },
  {
   "cell_type": "code",
   "execution_count": 87,
   "metadata": {},
   "outputs": [],
   "source": [
    "def perf_measure(y_actual, y_hat):\n",
    "    TP = 0\n",
    "    FP = 0\n",
    "    TN = 0\n",
    "    FN = 0\n",
    "\n",
    "    for i in range(len(y_hat)): \n",
    "        if y_actual[i]==y_hat[i]==1:\n",
    "           TP += 1\n",
    "        if y_hat[i]==1 and y_actual[i]!=y_hat[i]:\n",
    "           FP += 1\n",
    "        if y_actual[i]==y_hat[i]==0:\n",
    "           TN += 1\n",
    "        if y_hat[i]==0 and y_actual[i]!=y_hat[i]:\n",
    "           FN += 1\n",
    "\n",
    "    return(TP, FP, TN, FN)"
   ]
  },
  {
   "cell_type": "markdown",
   "metadata": {},
   "source": [
    "# Dummy "
   ]
  },
  {
   "cell_type": "code",
   "execution_count": 52,
   "metadata": {},
   "outputs": [
    {
     "name": "stdout",
     "output_type": "stream",
     "text": [
      "part de prescription majeure prédite\n",
      "0.5494876825812077\n",
      "part de prescription majeure correctement prédite\n",
      "0.5288633207696886\n",
      "part de prescription mineure correctement prédite\n",
      "0.46624727800629084\n",
      "Rappel\n",
      "0.5472085385878489\n",
      "F1\n",
      "0.5378795521032987\n"
     ]
    }
   ],
   "source": [
    "TP, FP, TN, FN = perf_measure(RF_T, RF_P)\n",
    "print(\"Cible à 1\")\n",
    "print((TP+FP)/len(P))\n",
    "print(\"part de cible à 1 correctement prédite\")\n",
    "print((TP)/(TP+FP))\n",
    "print(\"part de cible à 0 correctement prédite\")\n",
    "print((TN)/(TN+FN))\n",
    "print(\"Rappel\")\n",
    "print((TP)/(TP+FN))\n",
    "print(\"F1\")\n",
    "print((TP)/(TP+(1/2)*(FP+FN)))"
   ]
  },
  {
   "cell_type": "markdown",
   "metadata": {},
   "source": [
    "# Random forest"
   ]
  },
  {
   "cell_type": "code",
   "execution_count": 53,
   "metadata": {},
   "outputs": [
    {
     "name": "stdout",
     "output_type": "stream",
     "text": [
      "part de prescription majeure prédite\n",
      "0.6565293219969479\n",
      "part de prescription majeure correctement prédite\n",
      "0.6267640710609331\n",
      "part de prescription mineure correctement prédite\n",
      "0.6518565534750873\n",
      "Rappel\n",
      "0.7748357963875205\n",
      "F1\n",
      "0.6929784304726939\n"
     ]
    }
   ],
   "source": [
    "TP, FP, TN, FN = perf_measure(RF_T, RF_P)\n",
    "print(\"Cible à 1\")\n",
    "print((TP+FP)/len(P))\n",
    "print(\"part de cible à 1 correctement prédite\")\n",
    "print((TP)/(TP+FP))\n",
    "print(\"part de cible à 0 correctement prédite\")\n",
    "print((TN)/(TN+FN))\n",
    "print(\"Rappel\")\n",
    "print((TP)/(TP+FN))\n",
    "print(\"F1\")\n",
    "print((TP)/(TP+(1/2)*(FP+FN)))"
   ]
  },
  {
   "cell_type": "markdown",
   "metadata": {},
   "source": [
    "# NN"
   ]
  },
  {
   "cell_type": "markdown",
   "metadata": {},
   "source": [
    "num_epochs = 10 # how many passes over the whole train data\n",
    "\n",
    "input_size = 64 # flattened size of the image\n",
    "\n",
    "hidden_sizes = [128,64] # sizes of hidden layers\n",
    "\n",
    "output_size = 2 # how many labels we have\n",
    "\n",
    "lr = 0.01 # learning rate\n",
    "\n",
    "momentum = 0.9 # momentum\n",
    "\n",
    "poids=torch.tensor([[1, 1]],dtype=torch.float32)#Poids"
   ]
  },
  {
   "cell_type": "code",
   "execution_count": 148,
   "metadata": {},
   "outputs": [
    {
     "name": "stdout",
     "output_type": "stream",
     "text": [
      "part de prescription majeure prédite\n",
      "0.6477000218007413\n",
      "part de prescription majeure correctement prédite\n",
      "0.6127566475934029\n",
      "part de prescription mineure correctement prédite\n",
      "0.6191212871287128\n",
      "Rappel\n",
      "0.7473316912972086\n",
      "F1\n",
      "0.6733863510264472\n"
     ]
    }
   ],
   "source": [
    "TP, FP, TN, FN = perf_measure(RF_T, RF_P)\n",
    "print(\"Cible à 1\")\n",
    "print((TP+FP)/len(P))\n",
    "print(\"part de cible à 1 correctement prédite\")\n",
    "print((TP)/(TP+FP))\n",
    "print(\"part de cible à 0 correctement prédite\")\n",
    "print((TN)/(TN+FN))\n",
    "print(\"Rappel\")\n",
    "print((TP)/(TP+FN))\n",
    "print(\"F1\")\n",
    "print((TP)/(TP+(1/2)*(FP+FN)))"
   ]
  }
 ],
 "metadata": {
  "kernelspec": {
   "display_name": "Python 3",
   "language": "python",
   "name": "python3"
  },
  "language_info": {
   "codemirror_mode": {
    "name": "ipython",
    "version": 3
   },
   "file_extension": ".py",
   "mimetype": "text/x-python",
   "name": "python",
   "nbconvert_exporter": "python",
   "pygments_lexer": "ipython3",
   "version": "3.8.3"
  }
 },
 "nbformat": 4,
 "nbformat_minor": 4
}
