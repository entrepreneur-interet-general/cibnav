{
 "cells": [
  {
   "cell_type": "code",
   "execution_count": 34,
   "metadata": {},
   "outputs": [],
   "source": [
    "# General\n",
    "import pandas as pd\n",
    "import numpy as np\n",
    "from math import sqrt\n",
    "\n",
    "# Machine learning\n",
    "import matplotlib.pyplot as plt\n",
    "from sklearn.model_selection import train_test_split\n",
    "from sklearn.ensemble import GradientBoostingClassifier\n",
    "from sklearn.dummy import DummyClassifier\n",
    "from sklearn.metrics import f1_score, confusion_matrix, recall_score, roc_curve, precision_score, make_scorer\n",
    "from sklearn.linear_model import SGDClassifier, LinearRegression, Lasso, ElasticNet, Ridge\n",
    "from sklearn.preprocessing import LabelEncoder, OneHotEncoder, StandardScaler\n",
    "from sklearn import svm, tree\n",
    "from sklearn.model_selection import GridSearchCV\n",
    "\n",
    "# Vizu\n",
    "\n",
    "# Tracking\n",
    "import mlflow\n",
    "import mlflow.sklearn"
   ]
  },
  {
   "cell_type": "code",
   "execution_count": 27,
   "metadata": {},
   "outputs": [],
   "source": [
    "def eval_metrics(actual, pred):\n",
    "    rmse = np.sqrt(mean_squared_error(actual, pred))\n",
    "    mae = mean_absolute_error(actual, pred)\n",
    "    r2 = r2_score(actual, pred)\n",
    "    return rmse, mae, r2"
   ]
  },
  {
   "cell_type": "code",
   "execution_count": 2,
   "metadata": {},
   "outputs": [],
   "source": [
    "def create_target(df):\n",
    "    df['cible'] = df['Sitrep Cible'].apply(lambda x: bool(x))\n",
    "    df = df.dropna(subset=['cible'])\n",
    "    df = df.fillna(0)  # CAREFUL\n",
    "    y = df['cible']\n",
    "    del df['cible']\n",
    "    #scaler = StandardScaler()\n",
    "    #scaled_df = scaler.fit_transform(df)\n",
    "    #df = pd.DataFrame(scaled_df, columns=df.columns)\n",
    "    \n",
    "    col_genre_nav = [col for col in df if col.startswith('genre_nav')]\n",
    "    return df[['Annee','Prescriptions', 'Prescriptions Majeurs', 'At', 'Sitrep'] + col_genre_nav], y"
   ]
  },
  {
   "cell_type": "code",
   "execution_count": 3,
   "metadata": {},
   "outputs": [],
   "source": [
    "df = pd.read_csv('/home/anaconda/workspace/dataset_3.csv')\n",
    "del df['Type Essence']\n",
    "\n",
    "onehot = pd.get_dummies(df['Genre Navigation'], prefix='genre_nav', prefix_sep='_')\n",
    "df = df.join(onehot)\n",
    "del df['Genre Navigation']\n",
    "\n",
    "\n",
    "df,y = create_target(df)"
   ]
  },
  {
   "cell_type": "code",
   "execution_count": 4,
   "metadata": {},
   "outputs": [],
   "source": [
    "X_train, X_test, y_train, y_test = train_test_split(df, y, test_size=0.33, random_state=42)"
   ]
  },
  {
   "cell_type": "code",
   "execution_count": 64,
   "metadata": {},
   "outputs": [
    {
     "data": {
      "text/html": [
       "<div>\n",
       "<style scoped>\n",
       "    .dataframe tbody tr th:only-of-type {\n",
       "        vertical-align: middle;\n",
       "    }\n",
       "\n",
       "    .dataframe tbody tr th {\n",
       "        vertical-align: top;\n",
       "    }\n",
       "\n",
       "    .dataframe thead th {\n",
       "        text-align: right;\n",
       "    }\n",
       "</style>\n",
       "<table border=\"1\" class=\"dataframe\">\n",
       "  <thead>\n",
       "    <tr style=\"text-align: right;\">\n",
       "      <th></th>\n",
       "      <th>Annee</th>\n",
       "      <th>Prescriptions</th>\n",
       "      <th>Prescriptions Majeurs</th>\n",
       "      <th>At</th>\n",
       "      <th>Sitrep</th>\n",
       "      <th>genre_nav_6.0</th>\n",
       "      <th>genre_nav_18.0</th>\n",
       "      <th>genre_nav_19.0</th>\n",
       "      <th>genre_nav_20.0</th>\n",
       "      <th>genre_nav_21.0</th>\n",
       "      <th>...</th>\n",
       "      <th>genre_nav_28.0</th>\n",
       "      <th>genre_nav_29.0</th>\n",
       "      <th>genre_nav_30.0</th>\n",
       "      <th>genre_nav_31.0</th>\n",
       "      <th>genre_nav_33.0</th>\n",
       "      <th>genre_nav_34.0</th>\n",
       "      <th>genre_nav_35.0</th>\n",
       "      <th>genre_nav_36.0</th>\n",
       "      <th>genre_nav_40.0</th>\n",
       "      <th>genre_nav_41.0</th>\n",
       "    </tr>\n",
       "  </thead>\n",
       "  <tbody>\n",
       "    <tr>\n",
       "      <td>0</td>\n",
       "      <td>2018</td>\n",
       "      <td>17</td>\n",
       "      <td>1</td>\n",
       "      <td>0</td>\n",
       "      <td>0.0</td>\n",
       "      <td>0</td>\n",
       "      <td>0</td>\n",
       "      <td>0</td>\n",
       "      <td>0</td>\n",
       "      <td>0</td>\n",
       "      <td>...</td>\n",
       "      <td>0</td>\n",
       "      <td>0</td>\n",
       "      <td>0</td>\n",
       "      <td>0</td>\n",
       "      <td>0</td>\n",
       "      <td>0</td>\n",
       "      <td>0</td>\n",
       "      <td>0</td>\n",
       "      <td>0</td>\n",
       "      <td>0</td>\n",
       "    </tr>\n",
       "    <tr>\n",
       "      <td>1</td>\n",
       "      <td>2018</td>\n",
       "      <td>3</td>\n",
       "      <td>0</td>\n",
       "      <td>0</td>\n",
       "      <td>0.0</td>\n",
       "      <td>0</td>\n",
       "      <td>0</td>\n",
       "      <td>0</td>\n",
       "      <td>0</td>\n",
       "      <td>0</td>\n",
       "      <td>...</td>\n",
       "      <td>0</td>\n",
       "      <td>0</td>\n",
       "      <td>0</td>\n",
       "      <td>0</td>\n",
       "      <td>0</td>\n",
       "      <td>0</td>\n",
       "      <td>0</td>\n",
       "      <td>0</td>\n",
       "      <td>0</td>\n",
       "      <td>0</td>\n",
       "    </tr>\n",
       "    <tr>\n",
       "      <td>2</td>\n",
       "      <td>2018</td>\n",
       "      <td>2</td>\n",
       "      <td>0</td>\n",
       "      <td>0</td>\n",
       "      <td>0.0</td>\n",
       "      <td>0</td>\n",
       "      <td>0</td>\n",
       "      <td>0</td>\n",
       "      <td>0</td>\n",
       "      <td>0</td>\n",
       "      <td>...</td>\n",
       "      <td>0</td>\n",
       "      <td>0</td>\n",
       "      <td>0</td>\n",
       "      <td>0</td>\n",
       "      <td>0</td>\n",
       "      <td>0</td>\n",
       "      <td>0</td>\n",
       "      <td>0</td>\n",
       "      <td>0</td>\n",
       "      <td>0</td>\n",
       "    </tr>\n",
       "    <tr>\n",
       "      <td>3</td>\n",
       "      <td>2018</td>\n",
       "      <td>7</td>\n",
       "      <td>1</td>\n",
       "      <td>0</td>\n",
       "      <td>0.0</td>\n",
       "      <td>0</td>\n",
       "      <td>0</td>\n",
       "      <td>0</td>\n",
       "      <td>0</td>\n",
       "      <td>0</td>\n",
       "      <td>...</td>\n",
       "      <td>0</td>\n",
       "      <td>0</td>\n",
       "      <td>0</td>\n",
       "      <td>0</td>\n",
       "      <td>0</td>\n",
       "      <td>0</td>\n",
       "      <td>0</td>\n",
       "      <td>0</td>\n",
       "      <td>0</td>\n",
       "      <td>0</td>\n",
       "    </tr>\n",
       "    <tr>\n",
       "      <td>4</td>\n",
       "      <td>2018</td>\n",
       "      <td>5</td>\n",
       "      <td>2</td>\n",
       "      <td>0</td>\n",
       "      <td>0.0</td>\n",
       "      <td>0</td>\n",
       "      <td>0</td>\n",
       "      <td>0</td>\n",
       "      <td>0</td>\n",
       "      <td>0</td>\n",
       "      <td>...</td>\n",
       "      <td>0</td>\n",
       "      <td>0</td>\n",
       "      <td>0</td>\n",
       "      <td>0</td>\n",
       "      <td>0</td>\n",
       "      <td>0</td>\n",
       "      <td>0</td>\n",
       "      <td>0</td>\n",
       "      <td>0</td>\n",
       "      <td>0</td>\n",
       "    </tr>\n",
       "    <tr>\n",
       "      <td>...</td>\n",
       "      <td>...</td>\n",
       "      <td>...</td>\n",
       "      <td>...</td>\n",
       "      <td>...</td>\n",
       "      <td>...</td>\n",
       "      <td>...</td>\n",
       "      <td>...</td>\n",
       "      <td>...</td>\n",
       "      <td>...</td>\n",
       "      <td>...</td>\n",
       "      <td>...</td>\n",
       "      <td>...</td>\n",
       "      <td>...</td>\n",
       "      <td>...</td>\n",
       "      <td>...</td>\n",
       "      <td>...</td>\n",
       "      <td>...</td>\n",
       "      <td>...</td>\n",
       "      <td>...</td>\n",
       "      <td>...</td>\n",
       "      <td>...</td>\n",
       "    </tr>\n",
       "    <tr>\n",
       "      <td>55880</td>\n",
       "      <td>2012</td>\n",
       "      <td>0</td>\n",
       "      <td>0</td>\n",
       "      <td>0</td>\n",
       "      <td>0.0</td>\n",
       "      <td>0</td>\n",
       "      <td>0</td>\n",
       "      <td>0</td>\n",
       "      <td>0</td>\n",
       "      <td>0</td>\n",
       "      <td>...</td>\n",
       "      <td>0</td>\n",
       "      <td>0</td>\n",
       "      <td>0</td>\n",
       "      <td>0</td>\n",
       "      <td>0</td>\n",
       "      <td>0</td>\n",
       "      <td>0</td>\n",
       "      <td>0</td>\n",
       "      <td>0</td>\n",
       "      <td>0</td>\n",
       "    </tr>\n",
       "    <tr>\n",
       "      <td>55881</td>\n",
       "      <td>2012</td>\n",
       "      <td>0</td>\n",
       "      <td>0</td>\n",
       "      <td>0</td>\n",
       "      <td>0.0</td>\n",
       "      <td>0</td>\n",
       "      <td>0</td>\n",
       "      <td>0</td>\n",
       "      <td>0</td>\n",
       "      <td>0</td>\n",
       "      <td>...</td>\n",
       "      <td>0</td>\n",
       "      <td>0</td>\n",
       "      <td>0</td>\n",
       "      <td>0</td>\n",
       "      <td>0</td>\n",
       "      <td>0</td>\n",
       "      <td>0</td>\n",
       "      <td>0</td>\n",
       "      <td>0</td>\n",
       "      <td>0</td>\n",
       "    </tr>\n",
       "    <tr>\n",
       "      <td>55882</td>\n",
       "      <td>2012</td>\n",
       "      <td>0</td>\n",
       "      <td>0</td>\n",
       "      <td>0</td>\n",
       "      <td>0.0</td>\n",
       "      <td>0</td>\n",
       "      <td>0</td>\n",
       "      <td>0</td>\n",
       "      <td>0</td>\n",
       "      <td>0</td>\n",
       "      <td>...</td>\n",
       "      <td>0</td>\n",
       "      <td>0</td>\n",
       "      <td>0</td>\n",
       "      <td>0</td>\n",
       "      <td>0</td>\n",
       "      <td>0</td>\n",
       "      <td>0</td>\n",
       "      <td>0</td>\n",
       "      <td>0</td>\n",
       "      <td>0</td>\n",
       "    </tr>\n",
       "    <tr>\n",
       "      <td>55883</td>\n",
       "      <td>2012</td>\n",
       "      <td>0</td>\n",
       "      <td>0</td>\n",
       "      <td>0</td>\n",
       "      <td>0.0</td>\n",
       "      <td>0</td>\n",
       "      <td>0</td>\n",
       "      <td>0</td>\n",
       "      <td>0</td>\n",
       "      <td>0</td>\n",
       "      <td>...</td>\n",
       "      <td>0</td>\n",
       "      <td>0</td>\n",
       "      <td>0</td>\n",
       "      <td>0</td>\n",
       "      <td>0</td>\n",
       "      <td>0</td>\n",
       "      <td>0</td>\n",
       "      <td>0</td>\n",
       "      <td>0</td>\n",
       "      <td>0</td>\n",
       "    </tr>\n",
       "    <tr>\n",
       "      <td>55884</td>\n",
       "      <td>2012</td>\n",
       "      <td>0</td>\n",
       "      <td>0</td>\n",
       "      <td>0</td>\n",
       "      <td>0.0</td>\n",
       "      <td>0</td>\n",
       "      <td>0</td>\n",
       "      <td>0</td>\n",
       "      <td>0</td>\n",
       "      <td>0</td>\n",
       "      <td>...</td>\n",
       "      <td>0</td>\n",
       "      <td>0</td>\n",
       "      <td>0</td>\n",
       "      <td>0</td>\n",
       "      <td>0</td>\n",
       "      <td>0</td>\n",
       "      <td>0</td>\n",
       "      <td>0</td>\n",
       "      <td>0</td>\n",
       "      <td>0</td>\n",
       "    </tr>\n",
       "  </tbody>\n",
       "</table>\n",
       "<p>55885 rows × 26 columns</p>\n",
       "</div>"
      ],
      "text/plain": [
       "       Annee  Prescriptions  Prescriptions Majeurs  At  Sitrep  genre_nav_6.0  \\\n",
       "0       2018             17                      1   0     0.0              0   \n",
       "1       2018              3                      0   0     0.0              0   \n",
       "2       2018              2                      0   0     0.0              0   \n",
       "3       2018              7                      1   0     0.0              0   \n",
       "4       2018              5                      2   0     0.0              0   \n",
       "...      ...            ...                    ...  ..     ...            ...   \n",
       "55880   2012              0                      0   0     0.0              0   \n",
       "55881   2012              0                      0   0     0.0              0   \n",
       "55882   2012              0                      0   0     0.0              0   \n",
       "55883   2012              0                      0   0     0.0              0   \n",
       "55884   2012              0                      0   0     0.0              0   \n",
       "\n",
       "       genre_nav_18.0  genre_nav_19.0  genre_nav_20.0  genre_nav_21.0  ...  \\\n",
       "0                   0               0               0               0  ...   \n",
       "1                   0               0               0               0  ...   \n",
       "2                   0               0               0               0  ...   \n",
       "3                   0               0               0               0  ...   \n",
       "4                   0               0               0               0  ...   \n",
       "...               ...             ...             ...             ...  ...   \n",
       "55880               0               0               0               0  ...   \n",
       "55881               0               0               0               0  ...   \n",
       "55882               0               0               0               0  ...   \n",
       "55883               0               0               0               0  ...   \n",
       "55884               0               0               0               0  ...   \n",
       "\n",
       "       genre_nav_28.0  genre_nav_29.0  genre_nav_30.0  genre_nav_31.0  \\\n",
       "0                   0               0               0               0   \n",
       "1                   0               0               0               0   \n",
       "2                   0               0               0               0   \n",
       "3                   0               0               0               0   \n",
       "4                   0               0               0               0   \n",
       "...               ...             ...             ...             ...   \n",
       "55880               0               0               0               0   \n",
       "55881               0               0               0               0   \n",
       "55882               0               0               0               0   \n",
       "55883               0               0               0               0   \n",
       "55884               0               0               0               0   \n",
       "\n",
       "       genre_nav_33.0  genre_nav_34.0  genre_nav_35.0  genre_nav_36.0  \\\n",
       "0                   0               0               0               0   \n",
       "1                   0               0               0               0   \n",
       "2                   0               0               0               0   \n",
       "3                   0               0               0               0   \n",
       "4                   0               0               0               0   \n",
       "...               ...             ...             ...             ...   \n",
       "55880               0               0               0               0   \n",
       "55881               0               0               0               0   \n",
       "55882               0               0               0               0   \n",
       "55883               0               0               0               0   \n",
       "55884               0               0               0               0   \n",
       "\n",
       "       genre_nav_40.0  genre_nav_41.0  \n",
       "0                   0               0  \n",
       "1                   0               0  \n",
       "2                   0               0  \n",
       "3                   0               0  \n",
       "4                   0               0  \n",
       "...               ...             ...  \n",
       "55880               0               0  \n",
       "55881               0               0  \n",
       "55882               0               0  \n",
       "55883               0               0  \n",
       "55884               0               0  \n",
       "\n",
       "[55885 rows x 26 columns]"
      ]
     },
     "execution_count": 64,
     "metadata": {},
     "output_type": "execute_result"
    }
   ],
   "source": [
    "df"
   ]
  },
  {
   "cell_type": "markdown",
   "metadata": {},
   "source": [
    "## Dummy"
   ]
  },
  {
   "cell_type": "code",
   "execution_count": 19,
   "metadata": {},
   "outputs": [
    {
     "data": {
      "text/plain": [
       "array([[17441,     0],\n",
       "       [ 1002,     0]])"
      ]
     },
     "metadata": {},
     "output_type": "display_data"
    },
    {
     "name": "stderr",
     "output_type": "stream",
     "text": [
      "/home/anaconda/anaconda3/lib/python3.7/site-packages/sklearn/metrics/classification.py:1437: UndefinedMetricWarning: F-score is ill-defined and being set to 0.0 due to no predicted samples.\n",
      "  'precision', 'predicted', average, warn_for)\n"
     ]
    },
    {
     "data": {
      "text/plain": [
       "0.0"
      ]
     },
     "metadata": {},
     "output_type": "display_data"
    },
    {
     "name": "stdout",
     "output_type": "stream",
     "text": [
      "Dummy Regressor - Mean\n"
     ]
    }
   ],
   "source": [
    "with mlflow.start_run():\n",
    "    dumb = DummyClassifier(strategy='most_frequent')\n",
    "    dumb.fit(X_train, y_train)\n",
    "\n",
    "    predicted_qualities = dumb.predict(X_test)\n",
    "\n",
    "    #(rmse, mae, r2) = eval_metrics(y_test, predicted_qualities)\n",
    "    display(confusion_matrix(y_test, predicted_qualities))\n",
    "    display(f1_score(y_test, predicted_qualities))\n",
    "    print(\"Dummy Regressor - Mean\")\n",
    "    #print(\"  RMSE: %s\" % rmse)\n",
    "    #print(\"  MAE: %s\" % mae)\n",
    "    #print(\"  R2: %s\" % r2)\n",
    "\n",
    "    #mlflow.log_metric(\"rmse\", rmse)\n",
    "    #mlflow.log_metric(\"r2\", r2)\n",
    "    #mlflow.log_metric(\"mae\", mae)\n",
    "    \n",
    "    mlflow.set_tags({'model':'dummy', 'type': 'regression', 'strategy': 'mean'})\n",
    "    mlflow.sklearn.log_model(dumb, \"model\")"
   ]
  },
  {
   "cell_type": "markdown",
   "metadata": {},
   "source": [
    "## Linear Regressor"
   ]
  },
  {
   "cell_type": "code",
   "execution_count": 47,
   "metadata": {},
   "outputs": [
    {
     "name": "stdout",
     "output_type": "stream",
     "text": [
      "  RMSE: 0.286841298066724\n",
      "  MAE: 0.10660717022610681\n",
      "  R2: 0.262366628810901\n"
     ]
    }
   ],
   "source": [
    "with mlflow.start_run():\n",
    "    linear = LinearRegression()\n",
    "    linear.fit(X_train, y_train)\n",
    "\n",
    "    predicted_qualities = linear.predict(X_test)\n",
    "\n",
    "    (rmse, mae, r2) = eval_metrics(y_test, predicted_qualities)\n",
    "\n",
    "    print(\"  RMSE: %s\" % rmse)\n",
    "    print(\"  MAE: %s\" % mae)\n",
    "    print(\"  R2: %s\" % r2)\n",
    "\n",
    "    mlflow.log_metric(\"rmse\", rmse)\n",
    "    mlflow.log_metric(\"r2\", r2)\n",
    "    mlflow.log_metric(\"mae\", mae)\n",
    "    \n",
    "    mlflow.set_tags({'model':'linear', 'type': 'regression', })\n",
    "    mlflow.sklearn.log_model(linear, \"model\")"
   ]
  },
  {
   "cell_type": "markdown",
   "metadata": {},
   "source": [
    "## Decision Tree"
   ]
  },
  {
   "cell_type": "code",
   "execution_count": 48,
   "metadata": {},
   "outputs": [
    {
     "name": "stdout",
     "output_type": "stream",
     "text": [
      "Decision Tree\n",
      "  RMSE: 0.3794298369646511\n",
      "  MAE: 0.11617368599358012\n",
      "  R2: -0.29068468376221035\n"
     ]
    }
   ],
   "source": [
    "with mlflow.start_run():\n",
    "    model = tree.DecisionTreeRegressor()\n",
    "    model.fit(X_train, y_train)\n",
    "\n",
    "    predicted_qualities = model.predict(X_test)\n",
    "    (rmse, mae, r2) = eval_metrics(y_test, predicted_qualities)\n",
    "\n",
    "    print(\"Decision Tree\")\n",
    "    print(\"  RMSE: %s\" % rmse)\n",
    "    print(\"  MAE: %s\" % mae)\n",
    "    print(\"  R2: %s\" % r2)\n",
    "\n",
    "    mlflow.log_metric(\"rmse\", rmse)\n",
    "    mlflow.log_metric(\"r2\", r2)\n",
    "    mlflow.log_metric(\"mae\", mae)\n",
    "    mlflow.set_tags({'model':'Decision Tree Regressor', 'type': 'regression',})\n",
    "\n",
    "    mlflow.sklearn.log_model(sgd, \"model\")"
   ]
  },
  {
   "cell_type": "markdown",
   "metadata": {},
   "source": [
    "## Lasso"
   ]
  },
  {
   "cell_type": "code",
   "execution_count": 49,
   "metadata": {},
   "outputs": [
    {
     "name": "stdout",
     "output_type": "stream",
     "text": [
      "Lasso\n",
      "  RMSE: 0.333982809729749\n",
      "  MAE: 0.13303487662428853\n",
      "  R2: -1.2493989399064986e-05\n"
     ]
    }
   ],
   "source": [
    "with mlflow.start_run():\n",
    "    model = Lasso()\n",
    "    model.fit(X_train, y_train)\n",
    "\n",
    "    predicted_qualities = model.predict(X_test)\n",
    "    (rmse, mae, r2) = eval_metrics(y_test, predicted_qualities)\n",
    "\n",
    "    print(\"Lasso\")\n",
    "    print(\"  RMSE: %s\" % rmse)\n",
    "    print(\"  MAE: %s\" % mae)\n",
    "    print(\"  R2: %s\" % r2)\n",
    "\n",
    "    mlflow.log_metric(\"rmse\", rmse)\n",
    "    mlflow.log_metric(\"r2\", r2)\n",
    "    mlflow.log_metric(\"mae\", mae)\n",
    "    mlflow.set_tags({'model':'Lasso', 'type': 'regression',})\n",
    "\n",
    "    mlflow.sklearn.log_model(sgd, \"model\")"
   ]
  },
  {
   "cell_type": "markdown",
   "metadata": {},
   "source": [
    "## Elastic Net"
   ]
  },
  {
   "cell_type": "code",
   "execution_count": 50,
   "metadata": {},
   "outputs": [
    {
     "name": "stdout",
     "output_type": "stream",
     "text": [
      "Elastic Net\n",
      "  RMSE: 0.3233912342775673\n",
      "  MAE: 0.12994301068863295\n",
      "  R2: 0.06240844747403396\n"
     ]
    }
   ],
   "source": [
    "with mlflow.start_run():\n",
    "    model = ElasticNet()\n",
    "    model.fit(X_train, y_train)\n",
    "\n",
    "    predicted_qualities = model.predict(X_test)\n",
    "    (rmse, mae, r2) = eval_metrics(y_test, predicted_qualities)\n",
    "\n",
    "    print(\"Elastic Net\")\n",
    "    print(\"  RMSE: %s\" % rmse)\n",
    "    print(\"  MAE: %s\" % mae)\n",
    "    print(\"  R2: %s\" % r2)\n",
    "\n",
    "    mlflow.log_metric(\"rmse\", rmse)\n",
    "    mlflow.log_metric(\"r2\", r2)\n",
    "    mlflow.log_metric(\"mae\", mae)\n",
    "    mlflow.set_tags({'model':'ElasticNet', 'type': 'regression',})\n",
    "\n",
    "    mlflow.sklearn.log_model(sgd, \"model\")"
   ]
  },
  {
   "cell_type": "markdown",
   "metadata": {},
   "source": [
    "## Ridge\n"
   ]
  },
  {
   "cell_type": "code",
   "execution_count": 51,
   "metadata": {},
   "outputs": [
    {
     "data": {
      "text/plain": [
       "array([ 0.021883  ,  0.02706608,  0.02706608, ..., -0.00208043,\n",
       "       -0.00208043,  0.00569418])"
      ]
     },
     "metadata": {},
     "output_type": "display_data"
    },
    {
     "name": "stdout",
     "output_type": "stream",
     "text": [
      "Ridge\n",
      "  RMSE: 0.2868398709857516\n",
      "  MAE: 0.10660906256145126\n",
      "  R2: 0.26237396847877403\n"
     ]
    }
   ],
   "source": [
    "with mlflow.start_run():\n",
    "    model = Ridge()\n",
    "    model.fit(X_train, y_train)\n",
    "\n",
    "    predicted_qualities = model.predict(X_test)\n",
    "    display(predicted_qualities)\n",
    "    (rmse, mae, r2) = eval_metrics(y_test, predicted_qualities)\n",
    "\n",
    "    print(\"Ridge\")\n",
    "    print(\"  RMSE: %s\" % rmse)\n",
    "    print(\"  MAE: %s\" % mae)\n",
    "    print(\"  R2: %s\" % r2)\n",
    "\n",
    "    mlflow.log_metric(\"rmse\", rmse)\n",
    "    mlflow.log_metric(\"r2\", r2)\n",
    "    mlflow.log_metric(\"mae\", mae)\n",
    "    mlflow.set_tags({'model':'Ridge', 'type': 'regression',})\n",
    "\n",
    "    mlflow.sklearn.log_model(sgd, \"model\")"
   ]
  },
  {
   "cell_type": "markdown",
   "metadata": {},
   "source": [
    "## SVR"
   ]
  },
  {
   "cell_type": "code",
   "execution_count": null,
   "metadata": {},
   "outputs": [
    {
     "name": "stderr",
     "output_type": "stream",
     "text": [
      "/home/anaconda/anaconda3/lib/python3.7/site-packages/sklearn/svm/base.py:193: FutureWarning: The default value of gamma will change from 'auto' to 'scale' in version 0.22 to account better for unscaled features. Set gamma explicitly to 'auto' or 'scale' to avoid this warning.\n",
      "  \"avoid this warning.\", FutureWarning)\n"
     ]
    }
   ],
   "source": [
    "with mlflow.start_run():\n",
    "    model = svm.SVR()\n",
    "    model.fit(X_train, y_train)\n",
    "\n",
    "    predicted_qualities = model.predict(X_test)\n",
    "    display(predicted_qualities)\n",
    "    (rmse, mae, r2) = eval_metrics(y_test, predicted_qualities)\n",
    "\n",
    "    print(\"SVR\")\n",
    "    print(\"  RMSE: %s\" % rmse)\n",
    "    print(\"  MAE: %s\" % mae)\n",
    "    print(\"  R2: %s\" % r2)\n",
    "\n",
    "    if False:\n",
    "        mlflow.log_metric(\"rmse\", rmse)\n",
    "        mlflow.log_metric(\"r2\", r2)\n",
    "        mlflow.log_metric(\"mae\", mae)\n",
    "        mlflow.set_tags({'model':'SVR', 'type': 'regression',})\n",
    "\n",
    "        mlflow.sklearn.log_model(sgd, \"model\")"
   ]
  },
  {
   "cell_type": "markdown",
   "metadata": {},
   "source": [
    "## SGD Regressor"
   ]
  },
  {
   "cell_type": "code",
   "execution_count": 72,
   "metadata": {},
   "outputs": [
    {
     "data": {
      "text/plain": [
       "array([[ 5634, 11807],\n",
       "       [   75,   927]])"
      ]
     },
     "metadata": {},
     "output_type": "display_data"
    },
    {
     "data": {
      "text/plain": [
       "0.13497379149679675"
      ]
     },
     "metadata": {},
     "output_type": "display_data"
    }
   ],
   "source": [
    "with mlflow.start_run():\n",
    "    sgd = SGDClassifier(loss='huber', penalty='elasticnet', alpha=0.0001)\n",
    "    sgd.fit(X_train, y_train)\n",
    "\n",
    "    predicted_qualities = sgd.predict(X_test)\n",
    "\n",
    "    display(confusion_matrix(y_test, predicted_qualities))\n",
    "    display(f1_score(y_test, predicted_qualities))\n"
   ]
  },
  {
   "cell_type": "code",
   "execution_count": 26,
   "metadata": {},
   "outputs": [],
   "source": [
    "params = {'loss': ['hinge', 'log', 'modified_huber', 'squared_hinge', 'perceptron', 'squared_loss', 'huber', 'epsilon_insensitive', 'squared_epsilon_insensitive'], \n",
    "         'penalty': ['elasticnet'],\n",
    "         'alpha': [0.0001, 0.001, 0.1]}"
   ]
  },
  {
   "cell_type": "code",
   "execution_count": 38,
   "metadata": {},
   "outputs": [
    {
     "data": {
      "text/plain": [
       "GridSearchCV(cv=10, error_score='raise-deprecating',\n",
       "             estimator=SGDClassifier(alpha=0.0001, average=False,\n",
       "                                     class_weight=None, early_stopping=False,\n",
       "                                     epsilon=0.1, eta0=0.0, fit_intercept=True,\n",
       "                                     l1_ratio=0.15, learning_rate='optimal',\n",
       "                                     loss='hinge', max_iter=1000,\n",
       "                                     n_iter_no_change=5, n_jobs=None,\n",
       "                                     penalty='l2', power_t=0.5,\n",
       "                                     random_state=None, shuffle=True, tol=0.001,\n",
       "                                     validat...\n",
       "                                     warm_start=False),\n",
       "             iid='warn', n_jobs=None,\n",
       "             param_grid={'alpha': [0.0001, 0.001, 0.1],\n",
       "                         'loss': ['hinge', 'log', 'modified_huber',\n",
       "                                  'squared_hinge', 'perceptron', 'squared_loss',\n",
       "                                  'huber', 'epsilon_insensitive',\n",
       "                                  'squared_epsilon_insensitive'],\n",
       "                         'penalty': ['elasticnet']},\n",
       "             pre_dispatch='2*n_jobs', refit=True, return_train_score=False,\n",
       "             scoring=make_scorer(recall_score), verbose=0)"
      ]
     },
     "execution_count": 38,
     "metadata": {},
     "output_type": "execute_result"
    }
   ],
   "source": [
    "sgd = SGDClassifier()\n",
    "clf = GridSearchCV(sgd, params, cv=5, scoring=make_scorer(recall_score))\n",
    "clf.fit(df, y)"
   ]
  },
  {
   "cell_type": "code",
   "execution_count": 39,
   "metadata": {},
   "outputs": [
    {
     "data": {
      "text/plain": [
       "{'mean_fit_time': array([1.09899206, 1.12486942, 1.64839323, 1.25442522, 0.74540765,\n",
       "        0.6748631 , 0.24980791, 0.85038438, 0.73880119, 0.40261447,\n",
       "        1.70019927, 0.42824354, 1.30449862, 0.38897421, 0.94801848,\n",
       "        0.48980448, 0.26120801, 0.83558865, 0.23909888, 1.44521108,\n",
       "        0.12855959, 4.48636351, 0.24113464, 0.77705395, 0.29009993,\n",
       "        0.20320332, 0.99975119]),\n",
       " 'std_fit_time': array([0.10382769, 0.14664613, 0.26901732, 0.34448274, 0.08966697,\n",
       "        0.16262888, 0.02744758, 0.16806333, 0.27399535, 0.13621827,\n",
       "        0.83017051, 0.11936832, 0.20689996, 0.14296039, 0.34644969,\n",
       "        0.14728378, 0.04769905, 0.24231619, 0.11455216, 0.25364499,\n",
       "        0.01513481, 0.69241716, 0.06915215, 0.28879896, 0.06793728,\n",
       "        0.06564658, 0.3419644 ]),\n",
       " 'mean_score_time': array([0.00297968, 0.00271378, 0.00296574, 0.00283122, 0.0029166 ,\n",
       "        0.00286984, 0.00280097, 0.0027457 , 0.0028023 , 0.00278468,\n",
       "        0.00293007, 0.00301592, 0.00282211, 0.00292969, 0.00283325,\n",
       "        0.00285287, 0.00296142, 0.00274906, 0.00270495, 0.00303755,\n",
       "        0.00290234, 0.00264444, 0.00295634, 0.0030123 , 0.00274045,\n",
       "        0.00281093, 0.00275562]),\n",
       " 'std_score_time': array([6.87778833e-04, 6.70296525e-05, 5.34201307e-04, 2.48439687e-04,\n",
       "        4.73073320e-04, 4.28805687e-04, 2.06290729e-04, 1.41961319e-04,\n",
       "        1.63933295e-04, 2.03314407e-04, 5.48706250e-04, 7.17121291e-04,\n",
       "        3.78955660e-04, 6.51215252e-04, 3.60710185e-04, 1.70674128e-04,\n",
       "        3.67537013e-04, 2.12684399e-04, 1.32816149e-04, 4.97588476e-04,\n",
       "        3.68764230e-04, 5.03572775e-05, 5.53360470e-04, 5.83336290e-04,\n",
       "        1.81921845e-04, 1.78560218e-04, 1.84575387e-04]),\n",
       " 'param_alpha': masked_array(data=[0.0001, 0.0001, 0.0001, 0.0001, 0.0001, 0.0001, 0.0001,\n",
       "                    0.0001, 0.0001, 0.001, 0.001, 0.001, 0.001, 0.001,\n",
       "                    0.001, 0.001, 0.001, 0.001, 0.1, 0.1, 0.1, 0.1, 0.1,\n",
       "                    0.1, 0.1, 0.1, 0.1],\n",
       "              mask=[False, False, False, False, False, False, False, False,\n",
       "                    False, False, False, False, False, False, False, False,\n",
       "                    False, False, False, False, False, False, False, False,\n",
       "                    False, False, False],\n",
       "        fill_value='?',\n",
       "             dtype=object),\n",
       " 'param_loss': masked_array(data=['hinge', 'log', 'modified_huber', 'squared_hinge',\n",
       "                    'perceptron', 'squared_loss', 'huber',\n",
       "                    'epsilon_insensitive', 'squared_epsilon_insensitive',\n",
       "                    'hinge', 'log', 'modified_huber', 'squared_hinge',\n",
       "                    'perceptron', 'squared_loss', 'huber',\n",
       "                    'epsilon_insensitive', 'squared_epsilon_insensitive',\n",
       "                    'hinge', 'log', 'modified_huber', 'squared_hinge',\n",
       "                    'perceptron', 'squared_loss', 'huber',\n",
       "                    'epsilon_insensitive', 'squared_epsilon_insensitive'],\n",
       "              mask=[False, False, False, False, False, False, False, False,\n",
       "                    False, False, False, False, False, False, False, False,\n",
       "                    False, False, False, False, False, False, False, False,\n",
       "                    False, False, False],\n",
       "        fill_value='?',\n",
       "             dtype=object),\n",
       " 'param_penalty': masked_array(data=['elasticnet', 'elasticnet', 'elasticnet', 'elasticnet',\n",
       "                    'elasticnet', 'elasticnet', 'elasticnet', 'elasticnet',\n",
       "                    'elasticnet', 'elasticnet', 'elasticnet', 'elasticnet',\n",
       "                    'elasticnet', 'elasticnet', 'elasticnet', 'elasticnet',\n",
       "                    'elasticnet', 'elasticnet', 'elasticnet', 'elasticnet',\n",
       "                    'elasticnet', 'elasticnet', 'elasticnet', 'elasticnet',\n",
       "                    'elasticnet', 'elasticnet', 'elasticnet'],\n",
       "              mask=[False, False, False, False, False, False, False, False,\n",
       "                    False, False, False, False, False, False, False, False,\n",
       "                    False, False, False, False, False, False, False, False,\n",
       "                    False, False, False],\n",
       "        fill_value='?',\n",
       "             dtype=object),\n",
       " 'params': [{'alpha': 0.0001, 'loss': 'hinge', 'penalty': 'elasticnet'},\n",
       "  {'alpha': 0.0001, 'loss': 'log', 'penalty': 'elasticnet'},\n",
       "  {'alpha': 0.0001, 'loss': 'modified_huber', 'penalty': 'elasticnet'},\n",
       "  {'alpha': 0.0001, 'loss': 'squared_hinge', 'penalty': 'elasticnet'},\n",
       "  {'alpha': 0.0001, 'loss': 'perceptron', 'penalty': 'elasticnet'},\n",
       "  {'alpha': 0.0001, 'loss': 'squared_loss', 'penalty': 'elasticnet'},\n",
       "  {'alpha': 0.0001, 'loss': 'huber', 'penalty': 'elasticnet'},\n",
       "  {'alpha': 0.0001, 'loss': 'epsilon_insensitive', 'penalty': 'elasticnet'},\n",
       "  {'alpha': 0.0001,\n",
       "   'loss': 'squared_epsilon_insensitive',\n",
       "   'penalty': 'elasticnet'},\n",
       "  {'alpha': 0.001, 'loss': 'hinge', 'penalty': 'elasticnet'},\n",
       "  {'alpha': 0.001, 'loss': 'log', 'penalty': 'elasticnet'},\n",
       "  {'alpha': 0.001, 'loss': 'modified_huber', 'penalty': 'elasticnet'},\n",
       "  {'alpha': 0.001, 'loss': 'squared_hinge', 'penalty': 'elasticnet'},\n",
       "  {'alpha': 0.001, 'loss': 'perceptron', 'penalty': 'elasticnet'},\n",
       "  {'alpha': 0.001, 'loss': 'squared_loss', 'penalty': 'elasticnet'},\n",
       "  {'alpha': 0.001, 'loss': 'huber', 'penalty': 'elasticnet'},\n",
       "  {'alpha': 0.001, 'loss': 'epsilon_insensitive', 'penalty': 'elasticnet'},\n",
       "  {'alpha': 0.001,\n",
       "   'loss': 'squared_epsilon_insensitive',\n",
       "   'penalty': 'elasticnet'},\n",
       "  {'alpha': 0.1, 'loss': 'hinge', 'penalty': 'elasticnet'},\n",
       "  {'alpha': 0.1, 'loss': 'log', 'penalty': 'elasticnet'},\n",
       "  {'alpha': 0.1, 'loss': 'modified_huber', 'penalty': 'elasticnet'},\n",
       "  {'alpha': 0.1, 'loss': 'squared_hinge', 'penalty': 'elasticnet'},\n",
       "  {'alpha': 0.1, 'loss': 'perceptron', 'penalty': 'elasticnet'},\n",
       "  {'alpha': 0.1, 'loss': 'squared_loss', 'penalty': 'elasticnet'},\n",
       "  {'alpha': 0.1, 'loss': 'huber', 'penalty': 'elasticnet'},\n",
       "  {'alpha': 0.1, 'loss': 'epsilon_insensitive', 'penalty': 'elasticnet'},\n",
       "  {'alpha': 0.1,\n",
       "   'loss': 'squared_epsilon_insensitive',\n",
       "   'penalty': 'elasticnet'}],\n",
       " 'split0_test_score': array([0.01960784, 0.24509804, 0.12418301, 0.18300654, 0.01633987,\n",
       "        1.        , 0.        , 0.        , 1.        , 0.01633987,\n",
       "        0.00653595, 0.01633987, 1.        , 0.01633987, 0.        ,\n",
       "        0.9379085 , 1.        , 1.        , 0.19281046, 0.03594771,\n",
       "        0.17973856, 0.1372549 , 0.14379085, 1.        , 0.        ,\n",
       "        0.89869281, 1.        ]),\n",
       " 'split1_test_score': array([0.03594771, 0.03594771, 0.23529412, 0.05555556, 0.03921569,\n",
       "        0.        , 1.        , 1.        , 1.        , 0.02614379,\n",
       "        0.02614379, 0.03594771, 0.12418301, 0.03594771, 1.        ,\n",
       "        0.95098039, 0.81045752, 1.        , 0.03594771, 0.03594771,\n",
       "        0.12418301, 0.0620915 , 0.09803922, 1.        , 0.        ,\n",
       "        0.        , 1.        ]),\n",
       " 'split2_test_score': array([0.16721311, 0.15409836, 0.12786885, 0.09180328, 0.04262295,\n",
       "        1.        , 0.90491803, 0.        , 1.        , 0.04262295,\n",
       "        0.00983607, 0.05901639, 0.12131148, 0.43934426, 1.        ,\n",
       "        0.        , 0.74754098, 0.        , 0.05901639, 0.03606557,\n",
       "        0.10819672, 0.12459016, 0.10819672, 1.        , 0.        ,\n",
       "        0.        , 0.        ]),\n",
       " 'split3_test_score': array([0.01967213, 0.04262295, 0.02295082, 0.08852459, 0.04590164,\n",
       "        1.        , 0.        , 1.        , 0.00655738, 0.06557377,\n",
       "        0.09836066, 0.01967213, 0.10163934, 0.77377049, 0.        ,\n",
       "        0.88196721, 0.99672131, 0.        , 0.01967213, 0.03606557,\n",
       "        0.09180328, 0.12786885, 0.06229508, 0.        , 0.36065574,\n",
       "        0.        , 1.        ]),\n",
       " 'split4_test_score': array([1.        , 0.1704918 , 0.10163934, 0.05901639, 0.04590164,\n",
       "        0.        , 0.8295082 , 0.        , 0.        , 0.14754098,\n",
       "        0.03278689, 0.04262295, 0.04590164, 0.35737705, 0.98360656,\n",
       "        0.98032787, 0.92131148, 1.        , 0.0295082 , 0.04590164,\n",
       "        0.10163934, 0.16393443, 0.07213115, 1.        , 1.        ,\n",
       "        0.        , 0.        ]),\n",
       " 'split5_test_score': array([0.11803279, 0.09836066, 0.04262295, 0.04262295, 0.08196721,\n",
       "        1.        , 0.73114754, 1.        , 0.        , 0.01311475,\n",
       "        0.73114754, 0.1147541 , 0.16393443, 0.09508197, 0.        ,\n",
       "        0.7147541 , 0.99344262, 1.        , 0.04918033, 0.04262295,\n",
       "        0.08196721, 0.11803279, 0.06557377, 1.        , 0.        ,\n",
       "        1.        , 1.        ]),\n",
       " 'split6_test_score': array([0.04918033, 0.02295082, 0.67868852, 0.05901639, 0.04262295,\n",
       "        1.        , 0.        , 0.        , 0.        , 0.02295082,\n",
       "        0.00655738, 0.06229508, 0.03278689, 0.77377049, 1.        ,\n",
       "        0.        , 0.7442623 , 0.        , 0.02295082, 0.02295082,\n",
       "        0.06557377, 0.21639344, 0.04262295, 1.        , 0.02622951,\n",
       "        0.01639344, 1.        ]),\n",
       " 'split7_test_score': array([0.10163934, 0.2295082 , 0.07868852, 0.1704918 , 0.04262295,\n",
       "        0.        , 0.99672131, 1.        , 1.        , 0.04918033,\n",
       "        0.0557377 , 0.04262295, 0.0557377 , 0.03934426, 1.        ,\n",
       "        0.        , 0.7442623 , 0.        , 0.04918033, 0.04262295,\n",
       "        0.09180328, 0.14754098, 0.05245902, 1.        , 0.        ,\n",
       "        0.        , 0.        ]),\n",
       " 'split8_test_score': array([0.07868852, 0.32131148, 0.08196721, 0.07213115, 1.        ,\n",
       "        0.        , 0.6557377 , 0.        , 0.        , 0.07868852,\n",
       "        0.02622951, 0.04590164, 0.08196721, 0.02622951, 0.        ,\n",
       "        0.91803279, 0.        , 1.        , 0.03606557, 0.29508197,\n",
       "        0.07540984, 0.18688525, 0.05245902, 1.        , 0.39344262,\n",
       "        0.64918033, 0.        ]),\n",
       " 'split9_test_score': array([0.04262295, 0.0852459 , 0.08196721, 0.08196721, 0.04262295,\n",
       "        0.        , 0.        , 0.        , 0.        , 0.72459016,\n",
       "        0.66229508, 1.        , 0.10819672, 0.04262295, 0.        ,\n",
       "        1.        , 0.99344262, 0.03606557, 0.05245902, 0.04262295,\n",
       "        0.06557377, 0.18360656, 0.05245902, 0.        , 0.        ,\n",
       "        0.58360656, 0.        ]),\n",
       " 'mean_test_score': array([0.16325085, 0.14056383, 0.15758811, 0.09041568, 0.13997201,\n",
       "        0.50000895, 0.51180947, 0.4       , 0.40070936, 0.11866626,\n",
       "        0.16554959, 0.14390733, 0.18359182, 0.25996933, 0.49836975,\n",
       "        0.63840757, 0.79515114, 0.50363308, 0.05468345, 0.06358051,\n",
       "        0.09859287, 0.14681611, 0.07500656, 0.80001789, 0.17801686,\n",
       "        0.31479131, 0.50002684]),\n",
       " 'std_test_score': array([0.28250938, 0.0958111 , 0.18212432, 0.04568292, 0.28705267,\n",
       "        0.5       , 0.42960425, 0.48989795, 0.48937714, 0.20550162,\n",
       "        0.26729518, 0.28653703, 0.27482094, 0.29272738, 0.4983824 ,\n",
       "        0.42439051, 0.28583862, 0.49649837, 0.04767859, 0.07740188,\n",
       "        0.03229435, 0.04128674, 0.03032709, 0.39998658, 0.31121417,\n",
       "        0.39737547, 0.5       ]),\n",
       " 'rank_test_score': array([16, 20, 17, 24, 21,  7,  4, 10,  9, 22, 15, 19, 13, 12,  8,  3,  2,\n",
       "         5, 27, 26, 23, 18, 25,  1, 14, 11,  6], dtype=int32)}"
      ]
     },
     "execution_count": 39,
     "metadata": {},
     "output_type": "execute_result"
    }
   ],
   "source": [
    "clf.cv_results_"
   ]
  },
  {
   "cell_type": "code",
   "execution_count": 40,
   "metadata": {},
   "outputs": [
    {
     "data": {
      "text/plain": [
       "{'alpha': 0.1, 'loss': 'squared_loss', 'penalty': 'elasticnet'}"
      ]
     },
     "metadata": {},
     "output_type": "display_data"
    },
    {
     "data": {
      "text/plain": [
       "0.8000178938892368"
      ]
     },
     "execution_count": 40,
     "metadata": {},
     "output_type": "execute_result"
    }
   ],
   "source": [
    "display(clf.best_params_)\n",
    "clf.best_score_"
   ]
  },
  {
   "cell_type": "markdown",
   "metadata": {},
   "source": [
    "SGD très intable . C1,1 de 0 à 992"
   ]
  },
  {
   "cell_type": "code",
   "execution_count": 73,
   "metadata": {},
   "outputs": [
    {
     "data": {
      "text/plain": [
       "0.9251497005988024"
      ]
     },
     "execution_count": 73,
     "metadata": {},
     "output_type": "execute_result"
    }
   ],
   "source": [
    "display(recall_score(y_test, predicted_qualities))\n",
    "\n"
   ]
  },
  {
   "cell_type": "code",
   "execution_count": null,
   "metadata": {},
   "outputs": [],
   "source": [
    "    print(\"SGDR\")\n",
    "    print(\"  RMSE: %s\" % rmse)\n",
    "    print(\"  MAE: %s\" % mae)\n",
    "    print(\"  R2: %s\" % r2)\n",
    "\n",
    "    mlflow.log_param(\"loss\", 'huber')\n",
    "    mlflow.log_param(\"penalty\", 'elasticnet')\n",
    "    mlflow.log_param(\"alpha\", 0.001)\n",
    "    mlflow.log_metric(\"rmse\", rmse)\n",
    "    mlflow.log_metric(\"r2\", r2)\n",
    "    mlflow.log_metric(\"mae\", mae)\n",
    "    mlflow.set_tags({'model':'SGD', 'type': 'regression',})\n",
    "\n",
    "    mlflow.sklearn.log_model(sgd, \"model\")\n"
   ]
  },
  {
   "cell_type": "markdown",
   "metadata": {},
   "source": [
    "Les deux fonctions de loss : 'squared epsilon insensitive' et 'squared_loss' divergent quelque soit la valeur d'alpha.\n",
    "\n",
    "Les deux fonctions de loss ' 'epsilon_insensitive' et 'huber' convergent."
   ]
  },
  {
   "cell_type": "markdown",
   "metadata": {},
   "source": [
    "## GBR"
   ]
  },
  {
   "cell_type": "code",
   "execution_count": 20,
   "metadata": {},
   "outputs": [
    {
     "data": {
      "text/plain": [
       "array([[17393,    48],\n",
       "       [  927,    75]])"
      ]
     },
     "metadata": {},
     "output_type": "display_data"
    },
    {
     "data": {
      "text/plain": [
       "0.1333333333333333"
      ]
     },
     "metadata": {},
     "output_type": "display_data"
    }
   ],
   "source": [
    "with mlflow.start_run():\n",
    "    gbr = GradientBoostingClassifier()\n",
    "    gbr.fit(X_train, y_train)\n",
    "\n",
    "    predicted_qualities = gbr.predict(X_test)\n",
    "\n",
    "    display(confusion_matrix(y_test, predicted_qualities))\n",
    "    display(f1_score(y_test, predicted_qualities))\n"
   ]
  },
  {
   "cell_type": "code",
   "execution_count": null,
   "metadata": {},
   "outputs": [],
   "source": []
  }
 ],
 "metadata": {
  "kernelspec": {
   "display_name": "Python 3",
   "language": "python",
   "name": "python3"
  },
  "language_info": {
   "codemirror_mode": {
    "name": "ipython",
    "version": 3
   },
   "file_extension": ".py",
   "mimetype": "text/x-python",
   "name": "python",
   "nbconvert_exporter": "python",
   "pygments_lexer": "ipython3",
   "version": "3.7.4"
  }
 },
 "nbformat": 4,
 "nbformat_minor": 2
}
